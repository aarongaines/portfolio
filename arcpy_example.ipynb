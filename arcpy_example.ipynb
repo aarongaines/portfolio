{
 "cells": [
  {
   "attachments": {},
   "cell_type": "markdown",
   "metadata": {},
   "source": [
    "# Using Arcpy to Automate GIS Tasks"
   ]
  },
  {
   "attachments": {},
   "cell_type": "markdown",
   "metadata": {},
   "source": [
    "## Introduction"
   ]
  },
  {
   "attachments": {},
   "cell_type": "markdown",
   "metadata": {},
   "source": [
    "Below is an example of using Python and the Arcpy library to download Digital Elevation Models (DEMs) from the USGS website using their API. This is done by Hydrologic Unit Code (HUC) 8 in this example. Where 8 is the number of digits in the HUC code, the more numbers the smaller the HUC area, the smallest being HUC12.\n",
    "\n",
    "Once the DEMs in the desired area are downloaded, ArcPy is used to mosaik the DEMs into a single raster, and then clips them using the HUC 8 boundary. "
   ]
  },
  {
   "attachments": {},
   "cell_type": "markdown",
   "metadata": {},
   "source": [
    "## Importing Libraries"
   ]
  },
  {
   "attachments": {},
   "cell_type": "markdown",
   "metadata": {},
   "source": [
    "In order to use arcpy, one must have ArcGIS installed on their computer, and have recently logged into an ArcGIS account. This is because the ArcPy library is a part of the ArcGIS software."
   ]
  },
  {
   "cell_type": "code",
   "execution_count": null,
   "metadata": {},
   "outputs": [],
   "source": [
    "import json\n",
    "import requests\n",
    "import pandas as pd\n",
    "import os\n",
    "import arcpy"
   ]
  },
  {
   "attachments": {},
   "cell_type": "markdown",
   "metadata": {},
   "source": [
    "## Downloading DEMs"
   ]
  },
  {
   "attachments": {},
   "cell_type": "markdown",
   "metadata": {},
   "source": [
    "### Set Parameters and Make Request"
   ]
  },
  {
   "attachments": {},
   "cell_type": "markdown",
   "metadata": {},
   "source": [
    "Here we setup the parameters for our workspace, including the HUC 8 code, the output directory, and the output file name as well as the basis for the USGS API URL. We also make our initial request to the USGS API to get the list of DEMs in the HUC 8 area."
   ]
  },
  {
   "cell_type": "code",
   "execution_count": null,
   "metadata": {},
   "outputs": [],
   "source": [
    "s_url = 'https://tnmaccess.nationalmap.gov/api/v1/products?datasets='\n",
    "dataset = 'National Elevation Dataset (NED) 1/3 arc-second'\n",
    "polyCode = input('Enter HUC8: ')\n",
    "polyType = 'huc8'\n",
    "\n",
    "url = s_url + dataset + '&polyCode=' + polyCode + '&polyType=' + polyType\n",
    "sp = 'dem\\\\'+ polyCode\n",
    "\n",
    "os.makedirs(sp, exist_ok=True)\n",
    "\n",
    "r = requests.get(url)\n",
    "data = r.json()"
   ]
  },
  {
   "attachments": {},
   "cell_type": "markdown",
   "metadata": {},
   "source": [
    "### Download the DEMs"
   ]
  },
  {
   "attachments": {},
   "cell_type": "markdown",
   "metadata": {},
   "source": [
    "This next portion of code is used to download the DEMs from the USGS API. First we create an output directory, then We iterate through the list of DEMs and download them to it."
   ]
  },
  {
   "cell_type": "code",
   "execution_count": null,
   "metadata": {},
   "outputs": [],
   "source": [
    "for i in data.get('items'):\n",
    "\n",
    "    url = i.get('downloadURL')\n",
    "    fname = url.split('/')[-1]\n",
    "    spath = sp + '/' + fname\n",
    "\n",
    "    if os.path.exists(spath):\n",
    "        print('Already exists: ' + fname)\n",
    "        continue\n",
    "    \n",
    "    else:\n",
    "        print('Downloading: ' + fname)\n",
    "        r = requests.get(url)\n",
    "        open(spath, 'wb').write(r.content)"
   ]
  },
  {
   "attachments": {},
   "cell_type": "markdown",
   "metadata": {},
   "source": [
    "## HUC 8 Boundary"
   ]
  },
  {
   "attachments": {},
   "cell_type": "markdown",
   "metadata": {},
   "source": [
    "Here we are retriving the HUC 8 boundary from our workspace directory. This will be used to clip the DEMs."
   ]
  },
  {
   "cell_type": "code",
   "execution_count": null,
   "metadata": {},
   "outputs": [],
   "source": [
    "wdb_path = sp + '\\\\' + polyCode + '_wbd.shp'\n",
    "\n",
    "wd = os.getcwd()\n",
    "wd += '\\\\' + 'wbd'\n",
    "\n",
    "arcpy.env.workspace = wd\n",
    "arcpy.env.overwriteOutput = True\n",
    "\n",
    "if os.path.exists(wdb_path):\n",
    "    print('Already exists: ' + wdb_path)\n",
    "\n",
    "else:\n",
    "    print(f'Exporting WDB HUC8 for {polyCode}')\n",
    "    huc8 = f\"huc8 = '{polyCode}'\"\n",
    "    arcpy.conversion.ExportFeatures(\"CA_WBD_HU8\", wdb_path,\n",
    "        huc8,\n",
    "        \"NOT_USE_ALIAS\",\n",
    "        'tnmid \"tnmid\" true true false 40 Text 0 0,First,#,CA_WBD_HU8,tnmid,0,40;metasource \"metasource\" true true false 40 Text 0 0,First,#,CA_WBD_HU8,metasource,0,40;sourcedata \"sourcedata\" true true false 100 Text 0 0,First,#,CA_WBD_HU8,sourcedata,0,100;sourceorig \"sourceorig\" true true false 130 Text 0 0,First,#,CA_WBD_HU8,sourceorig,0,130;sourcefeat \"sourcefeat\" true true false 40 Text 0 0,First,#,CA_WBD_HU8,sourcefeat,0,40;loaddate \"loaddate\" true true false 8 Date 0 0,First,#,CA_WBD_HU8,loaddate,-1,-1;referenceg \"referenceg\" true true false 50 Text 0 0,First,#,CA_WBD_HU8,referenceg,0,50;areaacres \"areaacres\" true true false 19 Double 0 0,First,#,CA_WBD_HU8,areaacres,-1,-1;areasqkm \"areasqkm\" true true false 19 Double 0 0,First,#,CA_WBD_HU8,areasqkm,-1,-1;states \"states\" true true false 50 Text 0 0,First,#,CA_WBD_HU8,states,0,50;huc8 \"huc8\" true true false 8 Text 0 0,First,#,CA_WBD_HU8,huc8,0,8;name \"name\" true true false 120 Text 0 0,First,#,CA_WBD_HU8,name,0,120;shape_Leng \"shape_Leng\" true true false 19 Double 0 0,First,#,CA_WBD_HU8,shape_Leng,-1,-1;ObjectID \"ObjectID\" true true false 10 Long 0 10,First,#,CA_WBD_HU8,ObjectID,-1,-1;Shape_Le_1 \"Shape_Le_1\" true true false 19 Double 0 0,First,#,CA_WBD_HU8,Shape_Le_1,-1,-1;Shape_Area \"Shape_Area\" true true false 19 Double 0 0,First,#,CA_WBD_HU8,Shape_Area,-1,-1',\n",
    "        None)"
   ]
  },
  {
   "attachments": {},
   "cell_type": "markdown",
   "metadata": {},
   "source": [
    "## Mosaic"
   ]
  },
  {
   "attachments": {},
   "cell_type": "markdown",
   "metadata": {},
   "source": [
    "In the following cell, we are using ArcPy to gather the list of DEMs in our workspace directory and then create a mosaic of them all. While in many modern GIS this step may not be neccesary as rasters can be displayed and processed on the fly, for this script's application in ArcMap this is not the case."
   ]
  },
  {
   "cell_type": "code",
   "execution_count": null,
   "metadata": {},
   "outputs": [],
   "source": [
    "wd = os.getcwd()\n",
    "wd += \"\\\\\" + sp\n",
    "\n",
    "arcpy.env.workspace = wd\n",
    "arcpy.env.overwriteOutput = True\n",
    "\n",
    "rasters = arcpy.ListRasters()\n",
    "\n",
    "fname = polyCode + \"_mosaic.tif\"\n",
    "fpath = wd + '\\\\' + fname\n",
    "\n",
    "if os.path.exists(fname):\n",
    "    print('Already exists: ' + fname)\n",
    "\n",
    "else:\n",
    "    print('Mosaicking: ' + fname)\n",
    "    with arcpy.EnvManager(resamplingMethod=\"BILINEAR\", pyramid=\"PYRAMIDS -1 BILINEAR DEFAULT 75 NO_SKIP NO_SIPS\"):\n",
    "        arcpy.management.MosaicToNewRaster(rasters, wd, fname, None, \"32_BIT_FLOAT\", None, 1, \"MEAN\", \"FIRST\")"
   ]
  },
  {
   "attachments": {},
   "cell_type": "markdown",
   "metadata": {},
   "source": [
    "## Clip"
   ]
  },
  {
   "attachments": {},
   "cell_type": "markdown",
   "metadata": {},
   "source": [
    "Now that we have the HUC 8 boundary and the mosaiked DEM, we can clip the DEM to the boundary."
   ]
  },
  {
   "cell_type": "code",
   "execution_count": null,
   "metadata": {},
   "outputs": [],
   "source": [
    "print('Clipping: ' + fname)\n",
    "with arcpy.da.SearchCursor(arcpy.ListFeatureClasses()[0], ['Shape@']) as rows:\n",
    "    for row in rows:\n",
    "        extent = row[0].extent.XMin, row[0].extent.YMin, row[0].extent.XMax, row[0].extent.YMax\n",
    "        extent = str(extent).replace('(', '').replace(')', '').replace(',', '')\n",
    "\n",
    "cpath = wd + '\\\\' + polyCode + '_mclip.tif'\n",
    "\n",
    "with arcpy.EnvManager(resamplingMethod=\"BILINEAR\", pyramid=\"PYRAMIDS -1 BILINEAR DEFAULT 75 NO_SKIP NO_SIPS\"):\n",
    "    arcpy.management.Clip(fname, extent, cpath, wdb_path, \"3.4e+38\", \"ClippingGeometry\", \"NO_MAINTAIN_EXTENT\")\n",
    "\n",
    "print('Completed: ' + cpath)"
   ]
  },
  {
   "attachments": {},
   "cell_type": "markdown",
   "metadata": {},
   "source": [
    "## Conclusion\n",
    "\n",
    "In this notebook, we used Python and ArcPy to download DEMs from the USGS website using their API. We then mosaiked the DEMs into a single raster, and clipped them to the HUC 8 boundary. The purpose of this was to create a DEM for a specific area that can be used in hydrologic modeling. In practice it was used to more quickly setup a GIS environment for digitizing hydrologic features.\n",
    "\n",
    "Below is an example of the output of this notebook:"
   ]
  },
  {
   "cell_type": "code",
   "execution_count": null,
   "metadata": {},
   "outputs": [],
   "source": [
    "# Place holder cell for clipped DEM output"
   ]
  }
 ],
 "metadata": {
  "language_info": {
   "name": "python"
  },
  "orig_nbformat": 4
 },
 "nbformat": 4,
 "nbformat_minor": 2
}
