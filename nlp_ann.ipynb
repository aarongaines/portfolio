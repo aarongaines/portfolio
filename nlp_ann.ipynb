{
 "cells": [
  {
   "attachments": {},
   "cell_type": "markdown",
   "metadata": {},
   "source": [
    "# Natural Language Processing (NLP) and Neural Networks with NLTK and the Tensorflow Keras API"
   ]
  },
  {
   "attachments": {},
   "cell_type": "markdown",
   "metadata": {},
   "source": [
    "### Introduction"
   ]
  },
  {
   "attachments": {},
   "cell_type": "markdown",
   "metadata": {},
   "source": [
    "In this notebook, I will be building a model to predict whether or not a tweet is about a real disaster, using the data given for the assignment. The data has been provided in separate training and test sets, so only the training set will be used in the model training/validation while the test set will be saved for the end to evalute the model.\n",
    "\n",
    "First the data will be loaded and explored, then the data will be cleaned and preprocessed, and finally the model will be built and trained. I decided to add some features to the data set (e.g. number of words in a tweet) to see if they would improve the model's performance. I also used the prebuild sentiment analysis model from the NLTK library to see if it would improve the model's performance. Finally I used the sklearn library to vectorize the text data with the TF-IDF vectorizer and the nltk tweet tokenizer to tokenize the text data. After all of this, I used the tensorflow.keras library to build and train the neural network. The metrics used to evaluate the model were the accuracy score and receiver operating characteristic (ROC) curve."
   ]
  },
  {
   "attachments": {},
   "cell_type": "markdown",
   "metadata": {},
   "source": [
    "### Import Libraries"
   ]
  },
  {
   "cell_type": "code",
   "execution_count": 1,
   "metadata": {},
   "outputs": [],
   "source": [
    "import numpy as np\n",
    "import pandas as pd\n",
    "import nltk\n",
    "from nltk.corpus import stopwords\n",
    "from nltk.sentiment.vader import SentimentIntensityAnalyzer\n",
    "from sklearn.feature_extraction.text import TfidfVectorizer\n",
    "from nltk.tokenize import TweetTokenizer\n",
    "import tensorflow as tf\n",
    "from matplotlib import pyplot as plt\n",
    "from sklearn.metrics import roc_curve\n",
    "import random"
   ]
  },
  {
   "cell_type": "code",
   "execution_count": 2,
   "metadata": {},
   "outputs": [],
   "source": [
    "random.seed(42)"
   ]
  },
  {
   "cell_type": "code",
   "execution_count": 3,
   "metadata": {},
   "outputs": [
    {
     "name": "stderr",
     "output_type": "stream",
     "text": [
      "[nltk_data] Downloading package stopwords to\n",
      "[nltk_data]     C:\\Users\\chief\\AppData\\Roaming\\nltk_data...\n",
      "[nltk_data]   Package stopwords is already up-to-date!\n",
      "[nltk_data] Downloading package vader_lexicon to\n",
      "[nltk_data]     C:\\Users\\chief\\AppData\\Roaming\\nltk_data...\n",
      "[nltk_data]   Package vader_lexicon is already up-to-date!\n"
     ]
    },
    {
     "data": {
      "text/plain": [
       "True"
      ]
     },
     "execution_count": 3,
     "metadata": {},
     "output_type": "execute_result"
    }
   ],
   "source": [
    "nltk.download('stopwords')\n",
    "nltk.download('vader_lexicon')"
   ]
  },
  {
   "cell_type": "code",
   "execution_count": 4,
   "metadata": {},
   "outputs": [],
   "source": [
    "stop_words = set(stopwords.words('english'))"
   ]
  },
  {
   "attachments": {},
   "cell_type": "markdown",
   "metadata": {},
   "source": [
    "### Custom Functions"
   ]
  },
  {
   "attachments": {},
   "cell_type": "markdown",
   "metadata": {},
   "source": [
    "1. *dtype_convert*: converts the data type of a column in a dataframe\n",
    "\n",
    "2. *link_count*: if a link exists in a tweet\n",
    "2. *get_polarity*: returns the polarity of a tweet using the NLTK sentiment analysis model\n",
    "2. *return_xy*: returns the x and y data from a dataframe\n",
    "2. *return_vectorized_data*: returns the vectorized text and extra features from a dataframe\n",
    "2. *plot_history*: plots the training and validation accuracy and loss from a history object\n",
    "2. *plot_roc*: plots the ROC curve using the best saved model and the test data"
   ]
  },
  {
   "cell_type": "code",
   "execution_count": 5,
   "metadata": {},
   "outputs": [],
   "source": [
    "def dtype_convert(data : pd.DataFrame):\n",
    "    \"\"\"Converts the data types of the numeric columns in a dataframe to the smallest possible type.\n",
    "    \n",
    "    Parameters\n",
    "    ----------\n",
    "    data : pd.DataFrame to have its numeric columns converted.\n",
    "    \"\"\"\n",
    "\n",
    "    int_list = ['int8', 'int16', 'int32', 'int64']\n",
    "    float_list = ['float16', 'float32', 'float64']\n",
    "\n",
    "    for col in data.select_dtypes(include=np.number).columns:\n",
    "\n",
    "        data_type = data[col].dtype\n",
    "        \n",
    "        # Convert to int\n",
    "        if data_type in int_list:\n",
    "\n",
    "            n_range = [abs(data[col].max()), abs(data[col].min())]\n",
    "            n_max = max(n_range)\n",
    "\n",
    "            if n_max <= 127:\n",
    "                data[col] = data[col].astype(np.int8)\n",
    "\n",
    "            elif n_max <= 32767:\n",
    "                data[col] = data[col].astype(np.int16)\n",
    "\n",
    "            elif n_max <= 2147483647:\n",
    "                data[col] = data[col].astype(np.int32)\n",
    "\n",
    "            else:\n",
    "                data[col] = data[col].astype(np.int64)\n",
    "\n",
    "        # Convert to float\n",
    "        elif data_type in float_list:\n",
    "                \n",
    "                n_range = [abs(data[col].max()), abs(data[col].min())]\n",
    "                n_max = max(n_range)\n",
    "    \n",
    "                if n_max <= 3.4e+38:\n",
    "                    data[col] = data[col].astype(np.float32)\n",
    "    \n",
    "                else:\n",
    "                    data[col] = data[col].astype(np.float64)\n",
    "    \n",
    "    return data\n",
    "        "
   ]
  },
  {
   "cell_type": "code",
   "execution_count": 6,
   "metadata": {},
   "outputs": [],
   "source": [
    "def link_count(text : str):\n",
    "    \"\"\"Returns binary value indicating whether a tweet contains a link or not.\n",
    "    \n",
    "    Parameters\n",
    "    ----------\n",
    "    text : str to be checked for links.\"\"\"\n",
    "\n",
    "    # Checks string for http\n",
    "    links = text.count('http')\n",
    "\n",
    "    if links > 0:\n",
    "        return 1\n",
    "    \n",
    "    else:\n",
    "        return 0"
   ]
  },
  {
   "cell_type": "code",
   "execution_count": 7,
   "metadata": {},
   "outputs": [],
   "source": [
    "def get_polarity(row : pd.Series):\n",
    "    \"\"\"Returns the polarity of a tweet using the VADER sentiment analyzer from NLTK.\n",
    "    \n",
    "    Parameters\n",
    "    ----------\n",
    "    row : pd.Series (to be applied on rows of pd.DataFrame) containing the text of a tweet.\"\"\"\n",
    "\n",
    "    sia = SentimentIntensityAnalyzer()\n",
    "\n",
    "    text = row['text']\n",
    "    polarity = sia.polarity_scores(text)\n",
    "\n",
    "    neg = polarity['neg']\n",
    "    neu = polarity['neu']\n",
    "    pos = polarity['pos']\n",
    "    compound = polarity['compound']\n",
    "\n",
    "    return neg, neu, pos, compound"
   ]
  },
  {
   "cell_type": "code",
   "execution_count": 8,
   "metadata": {},
   "outputs": [],
   "source": [
    "def return_xy(data):\n",
    "\n",
    "    # Add new features including polarity scores\n",
    "    # Binary feature for whether a tweet contains a link\n",
    "    data['links_f'] = data['text'].apply(link_count).astype(np.int8)\n",
    "    \n",
    "    data['tweet_len'] = data['text'].str.len()\n",
    "    data['word_count'] = data['text'].str.split().str.len()\n",
    "    data['word_density'] = data['tweet_len'] / (data['word_count'])\n",
    "\n",
    "    # Get polarity scores\n",
    "    print('Getting polarity scores...')\n",
    "    data['neg'], data['neu'], data['pos'], data['compound_f'] = zip(*data.apply(get_polarity, axis=1))\n",
    "\n",
    "    # Convert dtypes to save memory\n",
    "    #data['target'] = data['target'].astype('bool')\n",
    "    data = dtype_convert(data)\n",
    "    \n",
    "    # Columns for X and y\n",
    "    X = data.drop('target', axis=1)\n",
    "    y = data['target'].astype('int8')\n",
    "\n",
    "    return X, y"
   ]
  },
  {
   "cell_type": "code",
   "execution_count": 9,
   "metadata": {},
   "outputs": [],
   "source": [
    "def return_vectorized_data(train : pd.DataFrame, test : pd.DataFrame, text : list, features : list,\n",
    "                           max_features=None, stop_words=None):\n",
    "    \"\"\"Returns vectorized data for training and testing.\n",
    "\n",
    "    Parameters\n",
    "    ----------\n",
    "    train : pd.DataFrame containing training data.\n",
    "    test : pd.DataFrame containing testing data.\n",
    "    text : str indicating the column name of the text data.\n",
    "    features : list of str indicating the column names of the numeric features.\n",
    "    max_features : int indicating the maximum number of features to be used in the vectorizer.\n",
    "    stop_words : list of str indicating the stop words to be used in the vectorizer.\n",
    "    \"\"\"\n",
    "\n",
    "    tk = TweetTokenizer(preserve_case=False, strip_handles=True, reduce_len=True)\n",
    "\n",
    "    vectorizer = TfidfVectorizer(tokenizer=tk.tokenize, strip_accents='unicode', max_features=max_features, stop_words=stop_words)\n",
    "\n",
    "    v_train = vectorizer.fit_transform(train[text])\n",
    "    v_test = vectorizer.transform(test[text])\n",
    "\n",
    "    v_train = pd.DataFrame(v_train.toarray(), columns=vectorizer.get_feature_names_out(), index=train.index)\n",
    "    v_test = pd.DataFrame(v_test.toarray(), columns=vectorizer.get_feature_names_out(), index=test.index)\n",
    "\n",
    "    v_train = v_train[v_train.columns].astype(np.float32)\n",
    "    v_test = v_test[v_test.columns].astype(np.float32)\n",
    "\n",
    "    v_train = v_train.join(train[features], how='left', lsuffix='_v', rsuffix='_f')\n",
    "    v_test = v_test.join(test[features], how='left', lsuffix='_v', rsuffix='_f')\n",
    "\n",
    "    return v_train, v_test"
   ]
  },
  {
   "cell_type": "code",
   "execution_count": 10,
   "metadata": {},
   "outputs": [],
   "source": [
    "def plot_history(history):\n",
    "    \"\"\"Plots the training and validation loss and accuracy for a model.\n",
    "\n",
    "    Parameters\n",
    "    ----------\n",
    "    history : Keras history object.\n",
    "    \"\"\"\n",
    "\n",
    "    fig, ax = plt.subplots(2, 1, figsize=(11, 11))\n",
    "\n",
    "    auc_best = np.max(history.history['val_auc'])\n",
    "    auc_best_epoch = np.argmax(history.history['val_auc'])\n",
    "    auc_max = history.history['auc'][auc_best_epoch]\n",
    "\n",
    "\n",
    "    ax[0].plot(history.history['auc'], label='Train')\n",
    "    ax[0].plot(history.history['val_auc'], label='Validation')\n",
    "    ax[0].vlines(auc_best_epoch, 0, np.max(history.history['val_auc']), color='purple', linestyles='dashed', label='Best Epoch')\n",
    "\n",
    "    ax[0].annotate(f'{auc_best - np.max(history.history[\"auc\"]):.4f}',\n",
    "                    xy=(auc_best_epoch, auc_max),\n",
    "                    xytext=(auc_best_epoch, auc_best-0.05),\n",
    "                    arrowprops=dict(facecolor='black', shrink=0.05, width=0.7, headwidth=5))\n",
    "\n",
    "    ax[0].set_ylabel('AUC')\n",
    "    #ax[0].set_title('AUC vs. Epoch')\n",
    "    ax[0].legend(loc='lower left')\n",
    "\n",
    "    loss_best = np.min(history.history['val_loss'])\n",
    "    loss_best_epoch = np.argmin(history.history['val_loss'])\n",
    "    loss_max = history.history['loss'][loss_best_epoch]\n",
    "\n",
    "    ax[1].plot(history.history['loss'], label='Train')\n",
    "    ax[1].plot(history.history['val_loss'], label='Validation')\n",
    "    ax[1].vlines(loss_best_epoch, 0, loss_best, color='purple', linestyles='dashed', label='Best Epoch')\n",
    "\n",
    "    ax[1].annotate(f'{loss_best - np.min(history.history[\"loss\"]):.4f}',\n",
    "                    xy=(loss_best_epoch, loss_max),\n",
    "                    xytext=(loss_best_epoch, loss_best+.01),\n",
    "                    arrowprops=dict(facecolor='black', shrink=0, width=0.7, headwidth=5))\n",
    "\n",
    "    ax[1].set_xlabel('Epoch')\n",
    "    ax[1].set_ylabel('Loss')\n",
    "    #ax[1].set_title('Loss vs. Epoch')\n",
    "\n",
    "    ax[1].legend(loc='lower left')\n",
    "\n",
    "    plt.show()"
   ]
  },
  {
   "cell_type": "code",
   "execution_count": 11,
   "metadata": {},
   "outputs": [],
   "source": [
    "def plot_roc(X_train, X_test, y_train, y_test, model):\n",
    "    \"\"\"Plots the ROC AUC curve for a model.\n",
    "\n",
    "    Parameters\n",
    "    ----------\n",
    "    X_train : pd.DataFrame or numpy array containing the training data.\n",
    "    X_test : pd.DataFrame or numpy array containing the testing data.\n",
    "    y_train : pd.Series or numpy array containing the training target.\n",
    "    y_test : pd.Series or numpy array containing the testing target.\n",
    "    model : Keras model.\n",
    "    \"\"\"\n",
    "    \n",
    "    fpr_train, tpr_train, thresholds_train = roc_curve(y_train, model.predict(X_train))\n",
    "    fpr_test, tpr_test, thresholds_test = roc_curve(y_test, model.predict(X_test))\n",
    "\n",
    "    # Set figure size\n",
    "    plt.figure(figsize=(10, 10))\n",
    "\n",
    "    plt.plot(fpr_train, tpr_train, label='Train')\n",
    "    plt.plot(fpr_test, tpr_test, label='Test')\n",
    "\n",
    "    plt.legend(['Train', 'Test'], loc='upper left')\n",
    "\n",
    "    plt.xlabel('False Positive Rate')\n",
    "    plt.ylabel('True Positive Rate')\n",
    "    plt.title('ROC AUC Curve')\n",
    "    plt.show()"
   ]
  },
  {
   "cell_type": "markdown",
   "metadata": {},
   "source": [
    "### Import Data"
   ]
  },
  {
   "cell_type": "code",
   "execution_count": 12,
   "metadata": {},
   "outputs": [],
   "source": [
    "train_data = pd.read_csv('projects/data/bonus_train_data-2.csv')\n",
    "test_data = pd.read_csv('projects/data/bonus_test_data-2.csv')"
   ]
  },
  {
   "attachments": {},
   "cell_type": "markdown",
   "metadata": {},
   "source": [
    "Now that the data has been loaded, I will explore it to get an idea of what I am working with. It is important to make sure that the data is clean and that there are no missing values. I will then print some random samples from the data to get an idea of what the tweets look like. We may see some instances where the target is 1 (real disaster) but the tweet is not about a real disaster. This is important to keep in mind when training the model that we might be limited by the quality of the data."
   ]
  },
  {
   "cell_type": "code",
   "execution_count": 13,
   "metadata": {},
   "outputs": [
    {
     "name": "stdout",
     "output_type": "stream",
     "text": [
      "<class 'pandas.core.frame.DataFrame'>\n",
      "RangeIndex: 6090 entries, 0 to 6089\n",
      "Data columns (total 2 columns):\n",
      " #   Column  Non-Null Count  Dtype \n",
      "---  ------  --------------  ----- \n",
      " 0   text    6090 non-null   object\n",
      " 1   target  6090 non-null   int64 \n",
      "dtypes: int64(1), object(1)\n",
      "memory usage: 95.3+ KB\n"
     ]
    }
   ],
   "source": [
    "train_data.info()"
   ]
  },
  {
   "cell_type": "code",
   "execution_count": 14,
   "metadata": {},
   "outputs": [
    {
     "data": {
      "text/html": [
       "<div>\n",
       "<style scoped>\n",
       "    .dataframe tbody tr th:only-of-type {\n",
       "        vertical-align: middle;\n",
       "    }\n",
       "\n",
       "    .dataframe tbody tr th {\n",
       "        vertical-align: top;\n",
       "    }\n",
       "\n",
       "    .dataframe thead th {\n",
       "        text-align: right;\n",
       "    }\n",
       "</style>\n",
       "<table border=\"1\" class=\"dataframe\">\n",
       "  <thead>\n",
       "    <tr style=\"text-align: right;\">\n",
       "      <th></th>\n",
       "      <th>text</th>\n",
       "      <th>target</th>\n",
       "    </tr>\n",
       "  </thead>\n",
       "  <tbody>\n",
       "    <tr>\n",
       "      <th>0</th>\n",
       "      <td>Courageous and honest analysis of need to use ...</td>\n",
       "      <td>1</td>\n",
       "    </tr>\n",
       "    <tr>\n",
       "      <th>1</th>\n",
       "      <td>@ZachZaidman @670TheScore wld b a shame if tha...</td>\n",
       "      <td>0</td>\n",
       "    </tr>\n",
       "    <tr>\n",
       "      <th>2</th>\n",
       "      <td>Tell @BarackObama to rescind medals of 'honor'...</td>\n",
       "      <td>1</td>\n",
       "    </tr>\n",
       "    <tr>\n",
       "      <th>3</th>\n",
       "      <td>Worried about how the CA drought might affect ...</td>\n",
       "      <td>1</td>\n",
       "    </tr>\n",
       "    <tr>\n",
       "      <th>4</th>\n",
       "      <td>@YoungHeroesID Lava Blast &amp;amp; Power Red #Pan...</td>\n",
       "      <td>0</td>\n",
       "    </tr>\n",
       "    <tr>\n",
       "      <th>...</th>\n",
       "      <td>...</td>\n",
       "      <td>...</td>\n",
       "    </tr>\n",
       "    <tr>\n",
       "      <th>6085</th>\n",
       "      <td>@Eganator2000 There aren't many Obliteration s...</td>\n",
       "      <td>0</td>\n",
       "    </tr>\n",
       "    <tr>\n",
       "      <th>6086</th>\n",
       "      <td>just had a panic attack bc I don't have enough...</td>\n",
       "      <td>0</td>\n",
       "    </tr>\n",
       "    <tr>\n",
       "      <th>6087</th>\n",
       "      <td>Omron HEM-712C Automatic Blood Pressure Monito...</td>\n",
       "      <td>0</td>\n",
       "    </tr>\n",
       "    <tr>\n",
       "      <th>6088</th>\n",
       "      <td>Officials say a quarantine is in place at an A...</td>\n",
       "      <td>1</td>\n",
       "    </tr>\n",
       "    <tr>\n",
       "      <th>6089</th>\n",
       "      <td>I moved to England five years ago today. What ...</td>\n",
       "      <td>1</td>\n",
       "    </tr>\n",
       "  </tbody>\n",
       "</table>\n",
       "<p>6090 rows × 2 columns</p>\n",
       "</div>"
      ],
      "text/plain": [
       "                                                   text  target\n",
       "0     Courageous and honest analysis of need to use ...       1\n",
       "1     @ZachZaidman @670TheScore wld b a shame if tha...       0\n",
       "2     Tell @BarackObama to rescind medals of 'honor'...       1\n",
       "3     Worried about how the CA drought might affect ...       1\n",
       "4     @YoungHeroesID Lava Blast &amp; Power Red #Pan...       0\n",
       "...                                                 ...     ...\n",
       "6085  @Eganator2000 There aren't many Obliteration s...       0\n",
       "6086  just had a panic attack bc I don't have enough...       0\n",
       "6087  Omron HEM-712C Automatic Blood Pressure Monito...       0\n",
       "6088  Officials say a quarantine is in place at an A...       1\n",
       "6089  I moved to England five years ago today. What ...       1\n",
       "\n",
       "[6090 rows x 2 columns]"
      ]
     },
     "execution_count": 14,
     "metadata": {},
     "output_type": "execute_result"
    }
   ],
   "source": [
    "train_data"
   ]
  },
  {
   "cell_type": "code",
   "execution_count": 15,
   "metadata": {},
   "outputs": [
    {
     "name": "stdout",
     "output_type": "stream",
     "text": [
      "Index: 3895\n",
      "Target: 0\n",
      "@MistressPip I'm amazed you have not been inundated mistress.\n",
      "\n",
      "Index: 5303\n",
      "Target: 1\n",
      "New York City Outbreak: What Is Legionnaire's Disease?   http://t.co/CXI82rFiFS\n",
      "\n",
      "Index: 1459\n",
      "Target: 0\n",
      "I feel like death\n",
      "\n",
      "Index: 5454\n",
      "Target: 1\n",
      "#ABCNews Obama Declares Disaster for Typhoon-Devastated Saipan: Obama signs disaster declaration for No... http://t.co/DOBZc3piTM #World\n",
      "\n",
      "Index: 942\n",
      "Target: 0\n",
      "Enugu Government to demolish illegal structures at International Conference Centre: Enugu State government app... http://t.co/MsKn6D3eKH\n",
      "\n",
      "Index: 2843\n",
      "Target: 0\n",
      "People really still be having curfew even when they're 18 &amp; graduated high school ??\n",
      "\n",
      "Index: 1114\n",
      "Target: 1\n",
      "Severe Thunderstorm Warning including Russellville AR Clarksville AR Dardanelle AR until 10:15 PM CDT http://t.co/n844h1ASPj\n",
      "\n",
      "Index: 3884\n",
      "Target: 1\n",
      "A look at state actions a year after Ferguson's upheaval http://t.co/vXUFtVT9AU\n",
      "\n"
     ]
    }
   ],
   "source": [
    "for i in range(1, 9):\n",
    "    rand = np.random.randint(0, len(train_data)-1)\n",
    "    text = train_data.loc[rand, 'text']\n",
    "    target = train_data.loc[rand, 'target']\n",
    "    print(f'Index: {rand}')\n",
    "    print(f'Target: {target}\\n{text}\\n')"
   ]
  },
  {
   "attachments": {},
   "cell_type": "markdown",
   "metadata": {},
   "source": [
    "### Add Features"
   ]
  },
  {
   "cell_type": "code",
   "execution_count": 16,
   "metadata": {},
   "outputs": [
    {
     "name": "stdout",
     "output_type": "stream",
     "text": [
      "Getting polarity scores...\n",
      "Getting polarity scores...\n"
     ]
    }
   ],
   "source": [
    "X_train, y_train = return_xy(train_data)\n",
    "X_test, y_test = return_xy(test_data)\n",
    "\n",
    "features = ['tweet_len', 'word_count', 'word_density', 'links_f', 'neg', 'neu', 'pos', 'compound_f']"
   ]
  },
  {
   "attachments": {},
   "cell_type": "markdown",
   "metadata": {},
   "source": [
    "### Tokenize and Vectorize Data"
   ]
  },
  {
   "cell_type": "code",
   "execution_count": 17,
   "metadata": {},
   "outputs": [],
   "source": [
    "# Runs the custom function to vectorize the data\n",
    "X_train_v, X_test_v = return_vectorized_data(X_train, X_test, 'text', features=features, max_features=None, stop_words=stop_words)"
   ]
  },
  {
   "cell_type": "code",
   "execution_count": 18,
   "metadata": {},
   "outputs": [
    {
     "data": {
      "text/html": [
       "<div>\n",
       "<style scoped>\n",
       "    .dataframe tbody tr th:only-of-type {\n",
       "        vertical-align: middle;\n",
       "    }\n",
       "\n",
       "    .dataframe tbody tr th {\n",
       "        vertical-align: top;\n",
       "    }\n",
       "\n",
       "    .dataframe thead th {\n",
       "        text-align: right;\n",
       "    }\n",
       "</style>\n",
       "<table border=\"1\" class=\"dataframe\">\n",
       "  <thead>\n",
       "    <tr style=\"text-align: right;\">\n",
       "      <th></th>\n",
       "      <th>tweet_len</th>\n",
       "      <th>word_count</th>\n",
       "      <th>word_density</th>\n",
       "      <th>links_f</th>\n",
       "      <th>neg</th>\n",
       "      <th>neu</th>\n",
       "      <th>pos</th>\n",
       "      <th>compound_f</th>\n",
       "    </tr>\n",
       "  </thead>\n",
       "  <tbody>\n",
       "    <tr>\n",
       "      <th>0</th>\n",
       "      <td>140</td>\n",
       "      <td>18</td>\n",
       "      <td>7.777778</td>\n",
       "      <td>1</td>\n",
       "      <td>0.207</td>\n",
       "      <td>0.536</td>\n",
       "      <td>0.257</td>\n",
       "      <td>0.3182</td>\n",
       "    </tr>\n",
       "    <tr>\n",
       "      <th>1</th>\n",
       "      <td>98</td>\n",
       "      <td>15</td>\n",
       "      <td>6.533333</td>\n",
       "      <td>0</td>\n",
       "      <td>0.205</td>\n",
       "      <td>0.795</td>\n",
       "      <td>0.000</td>\n",
       "      <td>-0.4767</td>\n",
       "    </tr>\n",
       "    <tr>\n",
       "      <th>2</th>\n",
       "      <td>143</td>\n",
       "      <td>22</td>\n",
       "      <td>6.500000</td>\n",
       "      <td>1</td>\n",
       "      <td>0.000</td>\n",
       "      <td>1.000</td>\n",
       "      <td>0.000</td>\n",
       "      <td>0.0000</td>\n",
       "    </tr>\n",
       "    <tr>\n",
       "      <th>3</th>\n",
       "      <td>118</td>\n",
       "      <td>17</td>\n",
       "      <td>6.941176</td>\n",
       "      <td>1</td>\n",
       "      <td>0.138</td>\n",
       "      <td>0.862</td>\n",
       "      <td>0.000</td>\n",
       "      <td>-0.3736</td>\n",
       "    </tr>\n",
       "    <tr>\n",
       "      <th>4</th>\n",
       "      <td>82</td>\n",
       "      <td>9</td>\n",
       "      <td>9.111111</td>\n",
       "      <td>0</td>\n",
       "      <td>0.000</td>\n",
       "      <td>1.000</td>\n",
       "      <td>0.000</td>\n",
       "      <td>0.0000</td>\n",
       "    </tr>\n",
       "    <tr>\n",
       "      <th>...</th>\n",
       "      <td>...</td>\n",
       "      <td>...</td>\n",
       "      <td>...</td>\n",
       "      <td>...</td>\n",
       "      <td>...</td>\n",
       "      <td>...</td>\n",
       "      <td>...</td>\n",
       "      <td>...</td>\n",
       "    </tr>\n",
       "    <tr>\n",
       "      <th>6085</th>\n",
       "      <td>96</td>\n",
       "      <td>16</td>\n",
       "      <td>6.000000</td>\n",
       "      <td>0</td>\n",
       "      <td>0.000</td>\n",
       "      <td>0.502</td>\n",
       "      <td>0.498</td>\n",
       "      <td>0.9169</td>\n",
       "    </tr>\n",
       "    <tr>\n",
       "      <th>6086</th>\n",
       "      <td>132</td>\n",
       "      <td>28</td>\n",
       "      <td>4.714286</td>\n",
       "      <td>0</td>\n",
       "      <td>0.276</td>\n",
       "      <td>0.724</td>\n",
       "      <td>0.000</td>\n",
       "      <td>-0.8126</td>\n",
       "    </tr>\n",
       "    <tr>\n",
       "      <th>6087</th>\n",
       "      <td>121</td>\n",
       "      <td>13</td>\n",
       "      <td>9.307693</td>\n",
       "      <td>1</td>\n",
       "      <td>0.155</td>\n",
       "      <td>0.845</td>\n",
       "      <td>0.000</td>\n",
       "      <td>-0.2960</td>\n",
       "    </tr>\n",
       "    <tr>\n",
       "      <th>6088</th>\n",
       "      <td>136</td>\n",
       "      <td>20</td>\n",
       "      <td>6.800000</td>\n",
       "      <td>1</td>\n",
       "      <td>0.000</td>\n",
       "      <td>1.000</td>\n",
       "      <td>0.000</td>\n",
       "      <td>0.0000</td>\n",
       "    </tr>\n",
       "    <tr>\n",
       "      <th>6089</th>\n",
       "      <td>101</td>\n",
       "      <td>17</td>\n",
       "      <td>5.941176</td>\n",
       "      <td>1</td>\n",
       "      <td>0.000</td>\n",
       "      <td>1.000</td>\n",
       "      <td>0.000</td>\n",
       "      <td>0.0000</td>\n",
       "    </tr>\n",
       "  </tbody>\n",
       "</table>\n",
       "<p>6090 rows × 8 columns</p>\n",
       "</div>"
      ],
      "text/plain": [
       "      tweet_len  word_count  word_density  links_f    neg    neu    pos  \\\n",
       "0           140          18      7.777778        1  0.207  0.536  0.257   \n",
       "1            98          15      6.533333        0  0.205  0.795  0.000   \n",
       "2           143          22      6.500000        1  0.000  1.000  0.000   \n",
       "3           118          17      6.941176        1  0.138  0.862  0.000   \n",
       "4            82           9      9.111111        0  0.000  1.000  0.000   \n",
       "...         ...         ...           ...      ...    ...    ...    ...   \n",
       "6085         96          16      6.000000        0  0.000  0.502  0.498   \n",
       "6086        132          28      4.714286        0  0.276  0.724  0.000   \n",
       "6087        121          13      9.307693        1  0.155  0.845  0.000   \n",
       "6088        136          20      6.800000        1  0.000  1.000  0.000   \n",
       "6089        101          17      5.941176        1  0.000  1.000  0.000   \n",
       "\n",
       "      compound_f  \n",
       "0         0.3182  \n",
       "1        -0.4767  \n",
       "2         0.0000  \n",
       "3        -0.3736  \n",
       "4         0.0000  \n",
       "...          ...  \n",
       "6085      0.9169  \n",
       "6086     -0.8126  \n",
       "6087     -0.2960  \n",
       "6088      0.0000  \n",
       "6089      0.0000  \n",
       "\n",
       "[6090 rows x 8 columns]"
      ]
     },
     "execution_count": 18,
     "metadata": {},
     "output_type": "execute_result"
    }
   ],
   "source": [
    "X_train_v[features]"
   ]
  },
  {
   "cell_type": "code",
   "execution_count": 19,
   "metadata": {},
   "outputs": [
    {
     "data": {
      "text/html": [
       "<div>\n",
       "<style scoped>\n",
       "    .dataframe tbody tr th:only-of-type {\n",
       "        vertical-align: middle;\n",
       "    }\n",
       "\n",
       "    .dataframe tbody tr th {\n",
       "        vertical-align: top;\n",
       "    }\n",
       "\n",
       "    .dataframe thead th {\n",
       "        text-align: right;\n",
       "    }\n",
       "</style>\n",
       "<table border=\"1\" class=\"dataframe\">\n",
       "  <thead>\n",
       "    <tr style=\"text-align: right;\">\n",
       "      <th></th>\n",
       "      <th>!</th>\n",
       "      <th>#</th>\n",
       "      <th>##book</th>\n",
       "      <th>##youtube</th>\n",
       "      <th>#034</th>\n",
       "      <th>#039</th>\n",
       "      <th>#06</th>\n",
       "      <th>#09</th>\n",
       "      <th>#1-1st</th>\n",
       "      <th>#1008pla</th>\n",
       "      <th>...</th>\n",
       "      <th></th>\n",
       "      <th>¡</th>\n",
       "      <th>¢</th>\n",
       "      <th>£</th>\n",
       "      <th>¤</th>\n",
       "      <th>©</th>\n",
       "      <th>«</th>\n",
       "      <th>¬</th>\n",
       "      <th>÷</th>\n",
       "      <th>⁄</th>\n",
       "    </tr>\n",
       "  </thead>\n",
       "  <tbody>\n",
       "    <tr>\n",
       "      <th>0</th>\n",
       "      <td>0.000000</td>\n",
       "      <td>0.0</td>\n",
       "      <td>0.0</td>\n",
       "      <td>0.0</td>\n",
       "      <td>0.0</td>\n",
       "      <td>0.0</td>\n",
       "      <td>0.0</td>\n",
       "      <td>0.0</td>\n",
       "      <td>0.0</td>\n",
       "      <td>0.0</td>\n",
       "      <td>...</td>\n",
       "      <td>0.0</td>\n",
       "      <td>0.0</td>\n",
       "      <td>0.0</td>\n",
       "      <td>0.0</td>\n",
       "      <td>0.0</td>\n",
       "      <td>0.0</td>\n",
       "      <td>0.0</td>\n",
       "      <td>0.0</td>\n",
       "      <td>0.0</td>\n",
       "      <td>0.0</td>\n",
       "    </tr>\n",
       "    <tr>\n",
       "      <th>1</th>\n",
       "      <td>0.000000</td>\n",
       "      <td>0.0</td>\n",
       "      <td>0.0</td>\n",
       "      <td>0.0</td>\n",
       "      <td>0.0</td>\n",
       "      <td>0.0</td>\n",
       "      <td>0.0</td>\n",
       "      <td>0.0</td>\n",
       "      <td>0.0</td>\n",
       "      <td>0.0</td>\n",
       "      <td>...</td>\n",
       "      <td>0.0</td>\n",
       "      <td>0.0</td>\n",
       "      <td>0.0</td>\n",
       "      <td>0.0</td>\n",
       "      <td>0.0</td>\n",
       "      <td>0.0</td>\n",
       "      <td>0.0</td>\n",
       "      <td>0.0</td>\n",
       "      <td>0.0</td>\n",
       "      <td>0.0</td>\n",
       "    </tr>\n",
       "    <tr>\n",
       "      <th>2</th>\n",
       "      <td>0.118436</td>\n",
       "      <td>0.0</td>\n",
       "      <td>0.0</td>\n",
       "      <td>0.0</td>\n",
       "      <td>0.0</td>\n",
       "      <td>0.0</td>\n",
       "      <td>0.0</td>\n",
       "      <td>0.0</td>\n",
       "      <td>0.0</td>\n",
       "      <td>0.0</td>\n",
       "      <td>...</td>\n",
       "      <td>0.0</td>\n",
       "      <td>0.0</td>\n",
       "      <td>0.0</td>\n",
       "      <td>0.0</td>\n",
       "      <td>0.0</td>\n",
       "      <td>0.0</td>\n",
       "      <td>0.0</td>\n",
       "      <td>0.0</td>\n",
       "      <td>0.0</td>\n",
       "      <td>0.0</td>\n",
       "    </tr>\n",
       "    <tr>\n",
       "      <th>3</th>\n",
       "      <td>0.000000</td>\n",
       "      <td>0.0</td>\n",
       "      <td>0.0</td>\n",
       "      <td>0.0</td>\n",
       "      <td>0.0</td>\n",
       "      <td>0.0</td>\n",
       "      <td>0.0</td>\n",
       "      <td>0.0</td>\n",
       "      <td>0.0</td>\n",
       "      <td>0.0</td>\n",
       "      <td>...</td>\n",
       "      <td>0.0</td>\n",
       "      <td>0.0</td>\n",
       "      <td>0.0</td>\n",
       "      <td>0.0</td>\n",
       "      <td>0.0</td>\n",
       "      <td>0.0</td>\n",
       "      <td>0.0</td>\n",
       "      <td>0.0</td>\n",
       "      <td>0.0</td>\n",
       "      <td>0.0</td>\n",
       "    </tr>\n",
       "    <tr>\n",
       "      <th>4</th>\n",
       "      <td>0.000000</td>\n",
       "      <td>0.0</td>\n",
       "      <td>0.0</td>\n",
       "      <td>0.0</td>\n",
       "      <td>0.0</td>\n",
       "      <td>0.0</td>\n",
       "      <td>0.0</td>\n",
       "      <td>0.0</td>\n",
       "      <td>0.0</td>\n",
       "      <td>0.0</td>\n",
       "      <td>...</td>\n",
       "      <td>0.0</td>\n",
       "      <td>0.0</td>\n",
       "      <td>0.0</td>\n",
       "      <td>0.0</td>\n",
       "      <td>0.0</td>\n",
       "      <td>0.0</td>\n",
       "      <td>0.0</td>\n",
       "      <td>0.0</td>\n",
       "      <td>0.0</td>\n",
       "      <td>0.0</td>\n",
       "    </tr>\n",
       "    <tr>\n",
       "      <th>...</th>\n",
       "      <td>...</td>\n",
       "      <td>...</td>\n",
       "      <td>...</td>\n",
       "      <td>...</td>\n",
       "      <td>...</td>\n",
       "      <td>...</td>\n",
       "      <td>...</td>\n",
       "      <td>...</td>\n",
       "      <td>...</td>\n",
       "      <td>...</td>\n",
       "      <td>...</td>\n",
       "      <td>...</td>\n",
       "      <td>...</td>\n",
       "      <td>...</td>\n",
       "      <td>...</td>\n",
       "      <td>...</td>\n",
       "      <td>...</td>\n",
       "      <td>...</td>\n",
       "      <td>...</td>\n",
       "      <td>...</td>\n",
       "      <td>...</td>\n",
       "    </tr>\n",
       "    <tr>\n",
       "      <th>6085</th>\n",
       "      <td>0.000000</td>\n",
       "      <td>0.0</td>\n",
       "      <td>0.0</td>\n",
       "      <td>0.0</td>\n",
       "      <td>0.0</td>\n",
       "      <td>0.0</td>\n",
       "      <td>0.0</td>\n",
       "      <td>0.0</td>\n",
       "      <td>0.0</td>\n",
       "      <td>0.0</td>\n",
       "      <td>...</td>\n",
       "      <td>0.0</td>\n",
       "      <td>0.0</td>\n",
       "      <td>0.0</td>\n",
       "      <td>0.0</td>\n",
       "      <td>0.0</td>\n",
       "      <td>0.0</td>\n",
       "      <td>0.0</td>\n",
       "      <td>0.0</td>\n",
       "      <td>0.0</td>\n",
       "      <td>0.0</td>\n",
       "    </tr>\n",
       "    <tr>\n",
       "      <th>6086</th>\n",
       "      <td>0.000000</td>\n",
       "      <td>0.0</td>\n",
       "      <td>0.0</td>\n",
       "      <td>0.0</td>\n",
       "      <td>0.0</td>\n",
       "      <td>0.0</td>\n",
       "      <td>0.0</td>\n",
       "      <td>0.0</td>\n",
       "      <td>0.0</td>\n",
       "      <td>0.0</td>\n",
       "      <td>...</td>\n",
       "      <td>0.0</td>\n",
       "      <td>0.0</td>\n",
       "      <td>0.0</td>\n",
       "      <td>0.0</td>\n",
       "      <td>0.0</td>\n",
       "      <td>0.0</td>\n",
       "      <td>0.0</td>\n",
       "      <td>0.0</td>\n",
       "      <td>0.0</td>\n",
       "      <td>0.0</td>\n",
       "    </tr>\n",
       "    <tr>\n",
       "      <th>6087</th>\n",
       "      <td>0.000000</td>\n",
       "      <td>0.0</td>\n",
       "      <td>0.0</td>\n",
       "      <td>0.0</td>\n",
       "      <td>0.0</td>\n",
       "      <td>0.0</td>\n",
       "      <td>0.0</td>\n",
       "      <td>0.0</td>\n",
       "      <td>0.0</td>\n",
       "      <td>0.0</td>\n",
       "      <td>...</td>\n",
       "      <td>0.0</td>\n",
       "      <td>0.0</td>\n",
       "      <td>0.0</td>\n",
       "      <td>0.0</td>\n",
       "      <td>0.0</td>\n",
       "      <td>0.0</td>\n",
       "      <td>0.0</td>\n",
       "      <td>0.0</td>\n",
       "      <td>0.0</td>\n",
       "      <td>0.0</td>\n",
       "    </tr>\n",
       "    <tr>\n",
       "      <th>6088</th>\n",
       "      <td>0.000000</td>\n",
       "      <td>0.0</td>\n",
       "      <td>0.0</td>\n",
       "      <td>0.0</td>\n",
       "      <td>0.0</td>\n",
       "      <td>0.0</td>\n",
       "      <td>0.0</td>\n",
       "      <td>0.0</td>\n",
       "      <td>0.0</td>\n",
       "      <td>0.0</td>\n",
       "      <td>...</td>\n",
       "      <td>0.0</td>\n",
       "      <td>0.0</td>\n",
       "      <td>0.0</td>\n",
       "      <td>0.0</td>\n",
       "      <td>0.0</td>\n",
       "      <td>0.0</td>\n",
       "      <td>0.0</td>\n",
       "      <td>0.0</td>\n",
       "      <td>0.0</td>\n",
       "      <td>0.0</td>\n",
       "    </tr>\n",
       "    <tr>\n",
       "      <th>6089</th>\n",
       "      <td>0.160096</td>\n",
       "      <td>0.0</td>\n",
       "      <td>0.0</td>\n",
       "      <td>0.0</td>\n",
       "      <td>0.0</td>\n",
       "      <td>0.0</td>\n",
       "      <td>0.0</td>\n",
       "      <td>0.0</td>\n",
       "      <td>0.0</td>\n",
       "      <td>0.0</td>\n",
       "      <td>...</td>\n",
       "      <td>0.0</td>\n",
       "      <td>0.0</td>\n",
       "      <td>0.0</td>\n",
       "      <td>0.0</td>\n",
       "      <td>0.0</td>\n",
       "      <td>0.0</td>\n",
       "      <td>0.0</td>\n",
       "      <td>0.0</td>\n",
       "      <td>0.0</td>\n",
       "      <td>0.0</td>\n",
       "    </tr>\n",
       "  </tbody>\n",
       "</table>\n",
       "<p>6090 rows × 17781 columns</p>\n",
       "</div>"
      ],
      "text/plain": [
       "             !    #  ##book  ##youtube  #034  #039  #06  #09  #1-1st  \\\n",
       "0     0.000000  0.0     0.0        0.0   0.0   0.0  0.0  0.0     0.0   \n",
       "1     0.000000  0.0     0.0        0.0   0.0   0.0  0.0  0.0     0.0   \n",
       "2     0.118436  0.0     0.0        0.0   0.0   0.0  0.0  0.0     0.0   \n",
       "3     0.000000  0.0     0.0        0.0   0.0   0.0  0.0  0.0     0.0   \n",
       "4     0.000000  0.0     0.0        0.0   0.0   0.0  0.0  0.0     0.0   \n",
       "...        ...  ...     ...        ...   ...   ...  ...  ...     ...   \n",
       "6085  0.000000  0.0     0.0        0.0   0.0   0.0  0.0  0.0     0.0   \n",
       "6086  0.000000  0.0     0.0        0.0   0.0   0.0  0.0  0.0     0.0   \n",
       "6087  0.000000  0.0     0.0        0.0   0.0   0.0  0.0  0.0     0.0   \n",
       "6088  0.000000  0.0     0.0        0.0   0.0   0.0  0.0  0.0     0.0   \n",
       "6089  0.160096  0.0     0.0        0.0   0.0   0.0  0.0  0.0     0.0   \n",
       "\n",
       "      #1008pla  ...        ¡    ¢    £    ¤    ©    «    ¬    ÷    ⁄  \n",
       "0          0.0  ...  0.0  0.0  0.0  0.0  0.0  0.0  0.0  0.0  0.0  0.0  \n",
       "1          0.0  ...  0.0  0.0  0.0  0.0  0.0  0.0  0.0  0.0  0.0  0.0  \n",
       "2          0.0  ...  0.0  0.0  0.0  0.0  0.0  0.0  0.0  0.0  0.0  0.0  \n",
       "3          0.0  ...  0.0  0.0  0.0  0.0  0.0  0.0  0.0  0.0  0.0  0.0  \n",
       "4          0.0  ...  0.0  0.0  0.0  0.0  0.0  0.0  0.0  0.0  0.0  0.0  \n",
       "...        ...  ...  ...  ...  ...  ...  ...  ...  ...  ...  ...  ...  \n",
       "6085       0.0  ...  0.0  0.0  0.0  0.0  0.0  0.0  0.0  0.0  0.0  0.0  \n",
       "6086       0.0  ...  0.0  0.0  0.0  0.0  0.0  0.0  0.0  0.0  0.0  0.0  \n",
       "6087       0.0  ...  0.0  0.0  0.0  0.0  0.0  0.0  0.0  0.0  0.0  0.0  \n",
       "6088       0.0  ...  0.0  0.0  0.0  0.0  0.0  0.0  0.0  0.0  0.0  0.0  \n",
       "6089       0.0  ...  0.0  0.0  0.0  0.0  0.0  0.0  0.0  0.0  0.0  0.0  \n",
       "\n",
       "[6090 rows x 17781 columns]"
      ]
     },
     "execution_count": 19,
     "metadata": {},
     "output_type": "execute_result"
    }
   ],
   "source": [
    "vectors = [col for col in X_train_v.columns if col not in features]\n",
    "X_train_v[vectors]"
   ]
  },
  {
   "attachments": {},
   "cell_type": "markdown",
   "metadata": {},
   "source": [
    "### Scale Data"
   ]
  },
  {
   "cell_type": "code",
   "execution_count": 20,
   "metadata": {},
   "outputs": [],
   "source": [
    "# import sklearn standard scaler\n",
    "from sklearn.preprocessing import StandardScaler"
   ]
  },
  {
   "cell_type": "code",
   "execution_count": 21,
   "metadata": {},
   "outputs": [],
   "source": [
    "X_train_f = X_train_v[features]\n",
    "X_test_f = X_test_v[features]\n",
    "\n",
    "# instantiate the scaler\n",
    "scaler = StandardScaler()\n",
    "\n",
    "# fit transform the training data\n",
    "X_train_fs = scaler.fit_transform(X_train_f)\n",
    "X_test_fs = scaler.transform(X_test_f)\n",
    "\n",
    "X_train_fs = pd.DataFrame(X_train_fs, columns=features, index=X_train_f.index)\n",
    "X_test_fs = pd.DataFrame(X_test_fs, columns=features, index=X_test_f.index)\n",
    "\n",
    "X_train_v[features] = X_train_fs[features]\n",
    "X_test_v[features] = X_test_fs[features]"
   ]
  },
  {
   "attachments": {},
   "cell_type": "markdown",
   "metadata": {},
   "source": [
    "### Train Model"
   ]
  },
  {
   "attachments": {},
   "cell_type": "markdown",
   "metadata": {},
   "source": [
    "First we convert the dataframes to numpy arrays to work with the keras api. I used the functional api to build the model. It has two hidden layers, a concatenated layer of the original input and previous hidden layers, and one more hidden layer before the output layer. I used the Adam optimizer and the binary crossentropy loss function. I also used the early stopping and checkpoint callbacks to save the best model. I used the fit method to train the model."
   ]
  },
  {
   "cell_type": "code",
   "execution_count": 22,
   "metadata": {},
   "outputs": [],
   "source": [
    "train_text = X_train_v.drop(features, axis=1)\n",
    "test_text = X_test_v.drop(features, axis=1)\n",
    "\n",
    "train_feats = X_train_v[features]\n",
    "test_feats = X_test_v[features]"
   ]
  },
  {
   "cell_type": "code",
   "execution_count": 23,
   "metadata": {},
   "outputs": [],
   "source": [
    "train_text_n = train_text.to_numpy()\n",
    "test_text_n = test_text.to_numpy()\n",
    "\n",
    "train_feats_n = train_feats.to_numpy()\n",
    "test_feats_n = test_feats.to_numpy()\n",
    "\n",
    "y_train_n = y_train.to_numpy()\n",
    "y_test_n = y_test.to_numpy()"
   ]
  },
  {
   "cell_type": "code",
   "execution_count": 24,
   "metadata": {},
   "outputs": [
    {
     "name": "stdout",
     "output_type": "stream",
     "text": [
      "Model: \"model\"\n",
      "__________________________________________________________________________________________________\n",
      " Layer (type)                   Output Shape         Param #     Connected to                     \n",
      "==================================================================================================\n",
      " feats_input (InputLayer)       [(None, 8)]          0           []                               \n",
      "                                                                                                  \n",
      " text_input (InputLayer)        [(None, 17781)]      0           []                               \n",
      "                                                                                                  \n",
      " dense_1 (Dense)                (None, 32)           288         ['feats_input[0][0]']            \n",
      "                                                                                                  \n",
      " dense (Dense)                  (None, 32)           569024      ['text_input[0][0]']             \n",
      "                                                                                                  \n",
      " dropout (Dropout)              (None, 32)           0           ['dense_1[0][0]']                \n",
      "                                                                                                  \n",
      " concatenate (Concatenate)      (None, 64)           0           ['dense[0][0]',                  \n",
      "                                                                  'dropout[0][0]']                \n",
      "                                                                                                  \n",
      " concatenate_1 (Concatenate)    (None, 17789)        0           ['text_input[0][0]',             \n",
      "                                                                  'feats_input[0][0]']            \n",
      "                                                                                                  \n",
      " concatenate_2 (Concatenate)    (None, 17853)        0           ['concatenate[0][0]',            \n",
      "                                                                  'concatenate_1[0][0]']          \n",
      "                                                                                                  \n",
      " dropout_1 (Dropout)            (None, 17853)        0           ['concatenate_2[0][0]']          \n",
      "                                                                                                  \n",
      " dense_2 (Dense)                (None, 1)            17854       ['dropout_1[0][0]']              \n",
      "                                                                                                  \n",
      "==================================================================================================\n",
      "Total params: 587,166\n",
      "Trainable params: 587,166\n",
      "Non-trainable params: 0\n",
      "__________________________________________________________________________________________________\n"
     ]
    }
   ],
   "source": [
    "tf.keras.backend.clear_session()\n",
    "\n",
    "act1 = tf.keras.layers.LeakyReLU(alpha=0.05)\n",
    "\n",
    "text_input_ = tf.keras.layers.Input(shape=(train_text_n.shape[1],), name='text_input')\n",
    "text_layers = tf.keras.layers.Dense(32, activation=act1)(text_input_)\n",
    "#text_layers = tf.keras.layers.Dropout(0.2)(text_layers)\n",
    "\n",
    "feats_input_ = tf.keras.layers.Input(shape=(train_feats_n.shape[1],), name='feats_input')\n",
    "feats_layers = tf.keras.layers.Dense(32, activation=act1)(feats_input_)\n",
    "feats_layers = tf.keras.layers.Dropout(0.1)(feats_layers)\n",
    "\n",
    "concat_l = tf.keras.layers.Concatenate()([text_layers, feats_layers])\n",
    "concat_i = tf.keras.layers.Concatenate()([text_input_, feats_input_])\n",
    "\n",
    "concat = tf.keras.layers.Concatenate()([concat_l, concat_i])\n",
    "concat = tf.keras.layers.Dropout(0.1)(concat)\n",
    "\n",
    "output_ = tf.keras.layers.Dense(1, activation='sigmoid')(concat)\n",
    "\n",
    "model = tf.keras.Model(inputs=[text_input_, feats_input_], outputs=output_)\n",
    "\n",
    "model.summary()"
   ]
  },
  {
   "cell_type": "code",
   "execution_count": 25,
   "metadata": {},
   "outputs": [],
   "source": [
    "opt = tf.keras.optimizers.Adamax(learning_rate=0.0003)\n",
    "metric = tf.keras.metrics.AUC()\n",
    "\n",
    "model.compile(optimizer=opt, loss='binary_crossentropy', metrics=metric)"
   ]
  },
  {
   "cell_type": "code",
   "execution_count": 26,
   "metadata": {},
   "outputs": [
    {
     "name": "stdout",
     "output_type": "stream",
     "text": [
      "Epoch 1/100\n",
      "94/94 [==============================] - ETA: 0s - loss: 0.6846 - auc: 0.6286INFO:tensorflow:Assets written to: checkpoint.hd5\\assets\n"
     ]
    },
    {
     "name": "stderr",
     "output_type": "stream",
     "text": [
      "INFO:tensorflow:Assets written to: checkpoint.hd5\\assets\n"
     ]
    },
    {
     "name": "stdout",
     "output_type": "stream",
     "text": [
      "94/94 [==============================] - 4s 39ms/step - loss: 0.6846 - auc: 0.6286 - val_loss: 0.6754 - val_auc: 0.7030\n",
      "Epoch 2/100\n",
      "94/94 [==============================] - ETA: 0s - loss: 0.6690 - auc: 0.7009INFO:tensorflow:Assets written to: checkpoint.hd5\\assets\n"
     ]
    },
    {
     "name": "stderr",
     "output_type": "stream",
     "text": [
      "INFO:tensorflow:Assets written to: checkpoint.hd5\\assets\n"
     ]
    },
    {
     "name": "stdout",
     "output_type": "stream",
     "text": [
      "94/94 [==============================] - 3s 32ms/step - loss: 0.6690 - auc: 0.7009 - val_loss: 0.6590 - val_auc: 0.7297\n",
      "Epoch 3/100\n",
      "94/94 [==============================] - ETA: 0s - loss: 0.6553 - auc: 0.7164INFO:tensorflow:Assets written to: checkpoint.hd5\\assets\n"
     ]
    },
    {
     "name": "stderr",
     "output_type": "stream",
     "text": [
      "INFO:tensorflow:Assets written to: checkpoint.hd5\\assets\n"
     ]
    },
    {
     "name": "stdout",
     "output_type": "stream",
     "text": [
      "94/94 [==============================] - 3s 28ms/step - loss: 0.6553 - auc: 0.7164 - val_loss: 0.6447 - val_auc: 0.7473\n",
      "Epoch 4/100\n",
      "94/94 [==============================] - ETA: 0s - loss: 0.6438 - auc: 0.7232INFO:tensorflow:Assets written to: checkpoint.hd5\\assets\n"
     ]
    },
    {
     "name": "stderr",
     "output_type": "stream",
     "text": [
      "INFO:tensorflow:Assets written to: checkpoint.hd5\\assets\n"
     ]
    },
    {
     "name": "stdout",
     "output_type": "stream",
     "text": [
      "94/94 [==============================] - 2s 27ms/step - loss: 0.6438 - auc: 0.7232 - val_loss: 0.6327 - val_auc: 0.7508\n",
      "Epoch 5/100\n",
      "93/94 [============================>.] - ETA: 0s - loss: 0.6329 - auc: 0.7321INFO:tensorflow:Assets written to: checkpoint.hd5\\assets\n"
     ]
    },
    {
     "name": "stderr",
     "output_type": "stream",
     "text": [
      "INFO:tensorflow:Assets written to: checkpoint.hd5\\assets\n"
     ]
    },
    {
     "name": "stdout",
     "output_type": "stream",
     "text": [
      "94/94 [==============================] - 2s 24ms/step - loss: 0.6329 - auc: 0.7323 - val_loss: 0.6209 - val_auc: 0.7559\n",
      "Epoch 6/100\n",
      "93/94 [============================>.] - ETA: 0s - loss: 0.6225 - auc: 0.7389INFO:tensorflow:Assets written to: checkpoint.hd5\\assets\n"
     ]
    },
    {
     "name": "stderr",
     "output_type": "stream",
     "text": [
      "INFO:tensorflow:Assets written to: checkpoint.hd5\\assets\n"
     ]
    },
    {
     "name": "stdout",
     "output_type": "stream",
     "text": [
      "94/94 [==============================] - 3s 27ms/step - loss: 0.6224 - auc: 0.7394 - val_loss: 0.6105 - val_auc: 0.7620\n",
      "Epoch 7/100\n",
      "94/94 [==============================] - ETA: 0s - loss: 0.6139 - auc: 0.7446INFO:tensorflow:Assets written to: checkpoint.hd5\\assets\n"
     ]
    },
    {
     "name": "stderr",
     "output_type": "stream",
     "text": [
      "INFO:tensorflow:Assets written to: checkpoint.hd5\\assets\n"
     ]
    },
    {
     "name": "stdout",
     "output_type": "stream",
     "text": [
      "94/94 [==============================] - 2s 24ms/step - loss: 0.6139 - auc: 0.7446 - val_loss: 0.6012 - val_auc: 0.7672\n",
      "Epoch 8/100\n",
      "94/94 [==============================] - ETA: 0s - loss: 0.6037 - auc: 0.7547INFO:tensorflow:Assets written to: checkpoint.hd5\\assets\n"
     ]
    },
    {
     "name": "stderr",
     "output_type": "stream",
     "text": [
      "INFO:tensorflow:Assets written to: checkpoint.hd5\\assets\n"
     ]
    },
    {
     "name": "stdout",
     "output_type": "stream",
     "text": [
      "94/94 [==============================] - 2s 25ms/step - loss: 0.6037 - auc: 0.7547 - val_loss: 0.5927 - val_auc: 0.7718\n",
      "Epoch 9/100\n",
      "92/94 [============================>.] - ETA: 0s - loss: 0.5983 - auc: 0.7567INFO:tensorflow:Assets written to: checkpoint.hd5\\assets\n"
     ]
    },
    {
     "name": "stderr",
     "output_type": "stream",
     "text": [
      "INFO:tensorflow:Assets written to: checkpoint.hd5\\assets\n"
     ]
    },
    {
     "name": "stdout",
     "output_type": "stream",
     "text": [
      "94/94 [==============================] - 2s 22ms/step - loss: 0.5973 - auc: 0.7584 - val_loss: 0.5854 - val_auc: 0.7766\n",
      "Epoch 10/100\n",
      "93/94 [============================>.] - ETA: 0s - loss: 0.5892 - auc: 0.7662INFO:tensorflow:Assets written to: checkpoint.hd5\\assets\n"
     ]
    },
    {
     "name": "stderr",
     "output_type": "stream",
     "text": [
      "INFO:tensorflow:Assets written to: checkpoint.hd5\\assets\n"
     ]
    },
    {
     "name": "stdout",
     "output_type": "stream",
     "text": [
      "94/94 [==============================] - 2s 23ms/step - loss: 0.5893 - auc: 0.7660 - val_loss: 0.5783 - val_auc: 0.7807\n",
      "Epoch 11/100\n",
      "93/94 [============================>.] - ETA: 0s - loss: 0.5833 - auc: 0.7704INFO:tensorflow:Assets written to: checkpoint.hd5\\assets\n"
     ]
    },
    {
     "name": "stderr",
     "output_type": "stream",
     "text": [
      "INFO:tensorflow:Assets written to: checkpoint.hd5\\assets\n"
     ]
    },
    {
     "name": "stdout",
     "output_type": "stream",
     "text": [
      "94/94 [==============================] - 2s 23ms/step - loss: 0.5834 - auc: 0.7701 - val_loss: 0.5718 - val_auc: 0.7842\n",
      "Epoch 12/100\n",
      "94/94 [==============================] - ETA: 0s - loss: 0.5742 - auc: 0.7810INFO:tensorflow:Assets written to: checkpoint.hd5\\assets\n"
     ]
    },
    {
     "name": "stderr",
     "output_type": "stream",
     "text": [
      "INFO:tensorflow:Assets written to: checkpoint.hd5\\assets\n"
     ]
    },
    {
     "name": "stdout",
     "output_type": "stream",
     "text": [
      "94/94 [==============================] - 2s 23ms/step - loss: 0.5742 - auc: 0.7810 - val_loss: 0.5656 - val_auc: 0.7907\n",
      "Epoch 13/100\n",
      "94/94 [==============================] - ETA: 0s - loss: 0.5676 - auc: 0.7875INFO:tensorflow:Assets written to: checkpoint.hd5\\assets\n"
     ]
    },
    {
     "name": "stderr",
     "output_type": "stream",
     "text": [
      "INFO:tensorflow:Assets written to: checkpoint.hd5\\assets\n"
     ]
    },
    {
     "name": "stdout",
     "output_type": "stream",
     "text": [
      "94/94 [==============================] - 2s 25ms/step - loss: 0.5676 - auc: 0.7875 - val_loss: 0.5598 - val_auc: 0.7955\n",
      "Epoch 14/100\n",
      "94/94 [==============================] - ETA: 0s - loss: 0.5609 - auc: 0.7945INFO:tensorflow:Assets written to: checkpoint.hd5\\assets\n"
     ]
    },
    {
     "name": "stderr",
     "output_type": "stream",
     "text": [
      "INFO:tensorflow:Assets written to: checkpoint.hd5\\assets\n"
     ]
    },
    {
     "name": "stdout",
     "output_type": "stream",
     "text": [
      "94/94 [==============================] - 2s 25ms/step - loss: 0.5609 - auc: 0.7945 - val_loss: 0.5544 - val_auc: 0.7990\n",
      "Epoch 15/100\n",
      "94/94 [==============================] - ETA: 0s - loss: 0.5538 - auc: 0.8022INFO:tensorflow:Assets written to: checkpoint.hd5\\assets\n"
     ]
    },
    {
     "name": "stderr",
     "output_type": "stream",
     "text": [
      "INFO:tensorflow:Assets written to: checkpoint.hd5\\assets\n"
     ]
    },
    {
     "name": "stdout",
     "output_type": "stream",
     "text": [
      "94/94 [==============================] - 3s 28ms/step - loss: 0.5538 - auc: 0.8022 - val_loss: 0.5489 - val_auc: 0.8049\n",
      "Epoch 16/100\n",
      "94/94 [==============================] - ETA: 0s - loss: 0.5455 - auc: 0.8120INFO:tensorflow:Assets written to: checkpoint.hd5\\assets\n"
     ]
    },
    {
     "name": "stderr",
     "output_type": "stream",
     "text": [
      "INFO:tensorflow:Assets written to: checkpoint.hd5\\assets\n"
     ]
    },
    {
     "name": "stdout",
     "output_type": "stream",
     "text": [
      "94/94 [==============================] - 2s 23ms/step - loss: 0.5455 - auc: 0.8120 - val_loss: 0.5435 - val_auc: 0.8090\n",
      "Epoch 17/100\n",
      "93/94 [============================>.] - ETA: 0s - loss: 0.5376 - auc: 0.8194INFO:tensorflow:Assets written to: checkpoint.hd5\\assets\n"
     ]
    },
    {
     "name": "stderr",
     "output_type": "stream",
     "text": [
      "INFO:tensorflow:Assets written to: checkpoint.hd5\\assets\n"
     ]
    },
    {
     "name": "stdout",
     "output_type": "stream",
     "text": [
      "94/94 [==============================] - 3s 28ms/step - loss: 0.5378 - auc: 0.8192 - val_loss: 0.5380 - val_auc: 0.8132\n",
      "Epoch 18/100\n",
      "94/94 [==============================] - ETA: 0s - loss: 0.5304 - auc: 0.8267INFO:tensorflow:Assets written to: checkpoint.hd5\\assets\n"
     ]
    },
    {
     "name": "stderr",
     "output_type": "stream",
     "text": [
      "INFO:tensorflow:Assets written to: checkpoint.hd5\\assets\n"
     ]
    },
    {
     "name": "stdout",
     "output_type": "stream",
     "text": [
      "94/94 [==============================] - 2s 24ms/step - loss: 0.5304 - auc: 0.8267 - val_loss: 0.5329 - val_auc: 0.8168\n",
      "Epoch 19/100\n",
      "94/94 [==============================] - ETA: 0s - loss: 0.5220 - auc: 0.8360INFO:tensorflow:Assets written to: checkpoint.hd5\\assets\n"
     ]
    },
    {
     "name": "stderr",
     "output_type": "stream",
     "text": [
      "INFO:tensorflow:Assets written to: checkpoint.hd5\\assets\n"
     ]
    },
    {
     "name": "stdout",
     "output_type": "stream",
     "text": [
      "94/94 [==============================] - 2s 24ms/step - loss: 0.5220 - auc: 0.8360 - val_loss: 0.5276 - val_auc: 0.8202\n",
      "Epoch 20/100\n",
      "92/94 [============================>.] - ETA: 0s - loss: 0.5144 - auc: 0.8429INFO:tensorflow:Assets written to: checkpoint.hd5\\assets\n"
     ]
    },
    {
     "name": "stderr",
     "output_type": "stream",
     "text": [
      "INFO:tensorflow:Assets written to: checkpoint.hd5\\assets\n"
     ]
    },
    {
     "name": "stdout",
     "output_type": "stream",
     "text": [
      "94/94 [==============================] - 2s 25ms/step - loss: 0.5148 - auc: 0.8423 - val_loss: 0.5224 - val_auc: 0.8261\n",
      "Epoch 21/100\n",
      "94/94 [==============================] - ETA: 0s - loss: 0.5064 - auc: 0.8504INFO:tensorflow:Assets written to: checkpoint.hd5\\assets\n"
     ]
    },
    {
     "name": "stderr",
     "output_type": "stream",
     "text": [
      "INFO:tensorflow:Assets written to: checkpoint.hd5\\assets\n"
     ]
    },
    {
     "name": "stdout",
     "output_type": "stream",
     "text": [
      "94/94 [==============================] - 2s 23ms/step - loss: 0.5064 - auc: 0.8504 - val_loss: 0.5175 - val_auc: 0.8317\n",
      "Epoch 22/100\n",
      "94/94 [==============================] - ETA: 0s - loss: 0.4990 - auc: 0.8572INFO:tensorflow:Assets written to: checkpoint.hd5\\assets\n"
     ]
    },
    {
     "name": "stderr",
     "output_type": "stream",
     "text": [
      "INFO:tensorflow:Assets written to: checkpoint.hd5\\assets\n"
     ]
    },
    {
     "name": "stdout",
     "output_type": "stream",
     "text": [
      "94/94 [==============================] - 2s 24ms/step - loss: 0.4990 - auc: 0.8572 - val_loss: 0.5126 - val_auc: 0.8380\n",
      "Epoch 23/100\n",
      "94/94 [==============================] - ETA: 0s - loss: 0.4902 - auc: 0.8655INFO:tensorflow:Assets written to: checkpoint.hd5\\assets\n"
     ]
    },
    {
     "name": "stderr",
     "output_type": "stream",
     "text": [
      "INFO:tensorflow:Assets written to: checkpoint.hd5\\assets\n"
     ]
    },
    {
     "name": "stdout",
     "output_type": "stream",
     "text": [
      "94/94 [==============================] - 2s 24ms/step - loss: 0.4902 - auc: 0.8655 - val_loss: 0.5073 - val_auc: 0.8424\n",
      "Epoch 24/100\n",
      "94/94 [==============================] - ETA: 0s - loss: 0.4816 - auc: 0.8733INFO:tensorflow:Assets written to: checkpoint.hd5\\assets\n"
     ]
    },
    {
     "name": "stderr",
     "output_type": "stream",
     "text": [
      "INFO:tensorflow:Assets written to: checkpoint.hd5\\assets\n"
     ]
    },
    {
     "name": "stdout",
     "output_type": "stream",
     "text": [
      "94/94 [==============================] - 2s 24ms/step - loss: 0.4816 - auc: 0.8733 - val_loss: 0.5028 - val_auc: 0.8452\n",
      "Epoch 25/100\n",
      "94/94 [==============================] - ETA: 0s - loss: 0.4743 - auc: 0.8796INFO:tensorflow:Assets written to: checkpoint.hd5\\assets\n"
     ]
    },
    {
     "name": "stderr",
     "output_type": "stream",
     "text": [
      "INFO:tensorflow:Assets written to: checkpoint.hd5\\assets\n"
     ]
    },
    {
     "name": "stdout",
     "output_type": "stream",
     "text": [
      "94/94 [==============================] - 3s 29ms/step - loss: 0.4743 - auc: 0.8796 - val_loss: 0.4984 - val_auc: 0.8482\n",
      "Epoch 26/100\n",
      "93/94 [============================>.] - ETA: 0s - loss: 0.4670 - auc: 0.8860INFO:tensorflow:Assets written to: checkpoint.hd5\\assets\n"
     ]
    },
    {
     "name": "stderr",
     "output_type": "stream",
     "text": [
      "INFO:tensorflow:Assets written to: checkpoint.hd5\\assets\n"
     ]
    },
    {
     "name": "stdout",
     "output_type": "stream",
     "text": [
      "94/94 [==============================] - 2s 24ms/step - loss: 0.4667 - auc: 0.8861 - val_loss: 0.4940 - val_auc: 0.8493\n",
      "Epoch 27/100\n",
      "94/94 [==============================] - ETA: 0s - loss: 0.4596 - auc: 0.8910INFO:tensorflow:Assets written to: checkpoint.hd5\\assets\n"
     ]
    },
    {
     "name": "stderr",
     "output_type": "stream",
     "text": [
      "INFO:tensorflow:Assets written to: checkpoint.hd5\\assets\n"
     ]
    },
    {
     "name": "stdout",
     "output_type": "stream",
     "text": [
      "94/94 [==============================] - 2s 22ms/step - loss: 0.4596 - auc: 0.8910 - val_loss: 0.4895 - val_auc: 0.8521\n",
      "Epoch 28/100\n",
      "93/94 [============================>.] - ETA: 0s - loss: 0.4505 - auc: 0.8981INFO:tensorflow:Assets written to: checkpoint.hd5\\assets\n"
     ]
    },
    {
     "name": "stderr",
     "output_type": "stream",
     "text": [
      "INFO:tensorflow:Assets written to: checkpoint.hd5\\assets\n"
     ]
    },
    {
     "name": "stdout",
     "output_type": "stream",
     "text": [
      "94/94 [==============================] - 2s 24ms/step - loss: 0.4504 - auc: 0.8982 - val_loss: 0.4851 - val_auc: 0.8556\n",
      "Epoch 29/100\n",
      "94/94 [==============================] - ETA: 0s - loss: 0.4438 - auc: 0.9017INFO:tensorflow:Assets written to: checkpoint.hd5\\assets\n"
     ]
    },
    {
     "name": "stderr",
     "output_type": "stream",
     "text": [
      "INFO:tensorflow:Assets written to: checkpoint.hd5\\assets\n"
     ]
    },
    {
     "name": "stdout",
     "output_type": "stream",
     "text": [
      "94/94 [==============================] - 2s 24ms/step - loss: 0.4438 - auc: 0.9017 - val_loss: 0.4807 - val_auc: 0.8581\n",
      "Epoch 30/100\n",
      "94/94 [==============================] - ETA: 0s - loss: 0.4357 - auc: 0.9072INFO:tensorflow:Assets written to: checkpoint.hd5\\assets\n"
     ]
    },
    {
     "name": "stderr",
     "output_type": "stream",
     "text": [
      "INFO:tensorflow:Assets written to: checkpoint.hd5\\assets\n"
     ]
    },
    {
     "name": "stdout",
     "output_type": "stream",
     "text": [
      "94/94 [==============================] - 2s 26ms/step - loss: 0.4357 - auc: 0.9072 - val_loss: 0.4766 - val_auc: 0.8592\n",
      "Epoch 31/100\n",
      "94/94 [==============================] - ETA: 0s - loss: 0.4285 - auc: 0.9120INFO:tensorflow:Assets written to: checkpoint.hd5\\assets\n"
     ]
    },
    {
     "name": "stderr",
     "output_type": "stream",
     "text": [
      "INFO:tensorflow:Assets written to: checkpoint.hd5\\assets\n"
     ]
    },
    {
     "name": "stdout",
     "output_type": "stream",
     "text": [
      "94/94 [==============================] - 3s 27ms/step - loss: 0.4285 - auc: 0.9120 - val_loss: 0.4726 - val_auc: 0.8610\n",
      "Epoch 32/100\n",
      "89/94 [===========================>..] - ETA: 0s - loss: 0.4195 - auc: 0.9183INFO:tensorflow:Assets written to: checkpoint.hd5\\assets\n"
     ]
    },
    {
     "name": "stderr",
     "output_type": "stream",
     "text": [
      "INFO:tensorflow:Assets written to: checkpoint.hd5\\assets\n"
     ]
    },
    {
     "name": "stdout",
     "output_type": "stream",
     "text": [
      "94/94 [==============================] - 2s 23ms/step - loss: 0.4199 - auc: 0.9176 - val_loss: 0.4686 - val_auc: 0.8626\n",
      "Epoch 33/100\n",
      "94/94 [==============================] - ETA: 0s - loss: 0.4126 - auc: 0.9218INFO:tensorflow:Assets written to: checkpoint.hd5\\assets\n"
     ]
    },
    {
     "name": "stderr",
     "output_type": "stream",
     "text": [
      "INFO:tensorflow:Assets written to: checkpoint.hd5\\assets\n"
     ]
    },
    {
     "name": "stdout",
     "output_type": "stream",
     "text": [
      "94/94 [==============================] - 2s 23ms/step - loss: 0.4126 - auc: 0.9218 - val_loss: 0.4648 - val_auc: 0.8642\n",
      "Epoch 34/100\n",
      "94/94 [==============================] - 1s 12ms/step - loss: 0.4058 - auc: 0.9249 - val_loss: 0.4612 - val_auc: 0.8629\n",
      "Epoch 35/100\n",
      "93/94 [============================>.] - ETA: 0s - loss: 0.3988 - auc: 0.9282INFO:tensorflow:Assets written to: checkpoint.hd5\\assets\n"
     ]
    },
    {
     "name": "stderr",
     "output_type": "stream",
     "text": [
      "INFO:tensorflow:Assets written to: checkpoint.hd5\\assets\n"
     ]
    },
    {
     "name": "stdout",
     "output_type": "stream",
     "text": [
      "94/94 [==============================] - 2s 24ms/step - loss: 0.3989 - auc: 0.9282 - val_loss: 0.4580 - val_auc: 0.8645\n",
      "Epoch 36/100\n",
      "93/94 [============================>.] - ETA: 0s - loss: 0.3915 - auc: 0.9323INFO:tensorflow:Assets written to: checkpoint.hd5\\assets\n"
     ]
    },
    {
     "name": "stderr",
     "output_type": "stream",
     "text": [
      "INFO:tensorflow:Assets written to: checkpoint.hd5\\assets\n"
     ]
    },
    {
     "name": "stdout",
     "output_type": "stream",
     "text": [
      "94/94 [==============================] - 2s 27ms/step - loss: 0.3916 - auc: 0.9322 - val_loss: 0.4547 - val_auc: 0.8656\n",
      "Epoch 37/100\n",
      "94/94 [==============================] - ETA: 0s - loss: 0.3845 - auc: 0.9364INFO:tensorflow:Assets written to: checkpoint.hd5\\assets\n"
     ]
    },
    {
     "name": "stderr",
     "output_type": "stream",
     "text": [
      "INFO:tensorflow:Assets written to: checkpoint.hd5\\assets\n"
     ]
    },
    {
     "name": "stdout",
     "output_type": "stream",
     "text": [
      "94/94 [==============================] - 2s 24ms/step - loss: 0.3845 - auc: 0.9364 - val_loss: 0.4515 - val_auc: 0.8675\n",
      "Epoch 38/100\n",
      "94/94 [==============================] - ETA: 0s - loss: 0.3781 - auc: 0.9384INFO:tensorflow:Assets written to: checkpoint.hd5\\assets\n"
     ]
    },
    {
     "name": "stderr",
     "output_type": "stream",
     "text": [
      "INFO:tensorflow:Assets written to: checkpoint.hd5\\assets\n"
     ]
    },
    {
     "name": "stdout",
     "output_type": "stream",
     "text": [
      "94/94 [==============================] - 2s 24ms/step - loss: 0.3781 - auc: 0.9384 - val_loss: 0.4484 - val_auc: 0.8682\n",
      "Epoch 39/100\n",
      "91/94 [============================>.] - ETA: 0s - loss: 0.3742 - auc: 0.9393INFO:tensorflow:Assets written to: checkpoint.hd5\\assets\n"
     ]
    },
    {
     "name": "stderr",
     "output_type": "stream",
     "text": [
      "INFO:tensorflow:Assets written to: checkpoint.hd5\\assets\n"
     ]
    },
    {
     "name": "stdout",
     "output_type": "stream",
     "text": [
      "94/94 [==============================] - 2s 23ms/step - loss: 0.3733 - auc: 0.9399 - val_loss: 0.4457 - val_auc: 0.8697\n",
      "Epoch 40/100\n",
      "93/94 [============================>.] - ETA: 0s - loss: 0.3657 - auc: 0.9435INFO:tensorflow:Assets written to: checkpoint.hd5\\assets\n"
     ]
    },
    {
     "name": "stderr",
     "output_type": "stream",
     "text": [
      "INFO:tensorflow:Assets written to: checkpoint.hd5\\assets\n"
     ]
    },
    {
     "name": "stdout",
     "output_type": "stream",
     "text": [
      "94/94 [==============================] - 2s 23ms/step - loss: 0.3657 - auc: 0.9435 - val_loss: 0.4426 - val_auc: 0.8701\n",
      "Epoch 41/100\n",
      "94/94 [==============================] - ETA: 0s - loss: 0.3610 - auc: 0.9445INFO:tensorflow:Assets written to: checkpoint.hd5\\assets\n"
     ]
    },
    {
     "name": "stderr",
     "output_type": "stream",
     "text": [
      "INFO:tensorflow:Assets written to: checkpoint.hd5\\assets\n"
     ]
    },
    {
     "name": "stdout",
     "output_type": "stream",
     "text": [
      "94/94 [==============================] - 2s 25ms/step - loss: 0.3610 - auc: 0.9445 - val_loss: 0.4398 - val_auc: 0.8730\n",
      "Epoch 42/100\n",
      "92/94 [============================>.] - ETA: 0s - loss: 0.3548 - auc: 0.9471INFO:tensorflow:Assets written to: checkpoint.hd5\\assets\n"
     ]
    },
    {
     "name": "stderr",
     "output_type": "stream",
     "text": [
      "INFO:tensorflow:Assets written to: checkpoint.hd5\\assets\n"
     ]
    },
    {
     "name": "stdout",
     "output_type": "stream",
     "text": [
      "94/94 [==============================] - 2s 22ms/step - loss: 0.3538 - auc: 0.9478 - val_loss: 0.4370 - val_auc: 0.8737\n",
      "Epoch 43/100\n",
      "94/94 [==============================] - ETA: 0s - loss: 0.3470 - auc: 0.9504INFO:tensorflow:Assets written to: checkpoint.hd5\\assets\n"
     ]
    },
    {
     "name": "stderr",
     "output_type": "stream",
     "text": [
      "INFO:tensorflow:Assets written to: checkpoint.hd5\\assets\n"
     ]
    },
    {
     "name": "stdout",
     "output_type": "stream",
     "text": [
      "94/94 [==============================] - 2s 25ms/step - loss: 0.3470 - auc: 0.9504 - val_loss: 0.4340 - val_auc: 0.8744\n",
      "Epoch 44/100\n",
      "93/94 [============================>.] - ETA: 0s - loss: 0.3415 - auc: 0.9525INFO:tensorflow:Assets written to: checkpoint.hd5\\assets\n"
     ]
    },
    {
     "name": "stderr",
     "output_type": "stream",
     "text": [
      "INFO:tensorflow:Assets written to: checkpoint.hd5\\assets\n"
     ]
    },
    {
     "name": "stdout",
     "output_type": "stream",
     "text": [
      "94/94 [==============================] - 2s 23ms/step - loss: 0.3415 - auc: 0.9526 - val_loss: 0.4315 - val_auc: 0.8745\n",
      "Epoch 45/100\n",
      "92/94 [============================>.] - ETA: 0s - loss: 0.3359 - auc: 0.9542INFO:tensorflow:Assets written to: checkpoint.hd5\\assets\n"
     ]
    },
    {
     "name": "stderr",
     "output_type": "stream",
     "text": [
      "INFO:tensorflow:Assets written to: checkpoint.hd5\\assets\n"
     ]
    },
    {
     "name": "stdout",
     "output_type": "stream",
     "text": [
      "94/94 [==============================] - 2s 25ms/step - loss: 0.3364 - auc: 0.9540 - val_loss: 0.4291 - val_auc: 0.8767\n",
      "Epoch 46/100\n",
      "94/94 [==============================] - ETA: 0s - loss: 0.3300 - auc: 0.9557INFO:tensorflow:Assets written to: checkpoint.hd5\\assets\n"
     ]
    },
    {
     "name": "stderr",
     "output_type": "stream",
     "text": [
      "INFO:tensorflow:Assets written to: checkpoint.hd5\\assets\n"
     ]
    },
    {
     "name": "stdout",
     "output_type": "stream",
     "text": [
      "94/94 [==============================] - 2s 24ms/step - loss: 0.3300 - auc: 0.9557 - val_loss: 0.4269 - val_auc: 0.8797\n",
      "Epoch 47/100\n",
      "92/94 [============================>.] - ETA: 0s - loss: 0.3246 - auc: 0.9574INFO:tensorflow:Assets written to: checkpoint.hd5\\assets\n"
     ]
    },
    {
     "name": "stderr",
     "output_type": "stream",
     "text": [
      "INFO:tensorflow:Assets written to: checkpoint.hd5\\assets\n"
     ]
    },
    {
     "name": "stdout",
     "output_type": "stream",
     "text": [
      "94/94 [==============================] - 2s 24ms/step - loss: 0.3245 - auc: 0.9575 - val_loss: 0.4248 - val_auc: 0.8797\n",
      "Epoch 48/100\n",
      "94/94 [==============================] - ETA: 0s - loss: 0.3182 - auc: 0.9601INFO:tensorflow:Assets written to: checkpoint.hd5\\assets\n"
     ]
    },
    {
     "name": "stderr",
     "output_type": "stream",
     "text": [
      "INFO:tensorflow:Assets written to: checkpoint.hd5\\assets\n"
     ]
    },
    {
     "name": "stdout",
     "output_type": "stream",
     "text": [
      "94/94 [==============================] - 2s 22ms/step - loss: 0.3182 - auc: 0.9601 - val_loss: 0.4224 - val_auc: 0.8802\n",
      "Epoch 49/100\n",
      "94/94 [==============================] - ETA: 0s - loss: 0.3139 - auc: 0.9606INFO:tensorflow:Assets written to: checkpoint.hd5\\assets\n"
     ]
    },
    {
     "name": "stderr",
     "output_type": "stream",
     "text": [
      "INFO:tensorflow:Assets written to: checkpoint.hd5\\assets\n"
     ]
    },
    {
     "name": "stdout",
     "output_type": "stream",
     "text": [
      "94/94 [==============================] - 2s 23ms/step - loss: 0.3139 - auc: 0.9606 - val_loss: 0.4205 - val_auc: 0.8819\n",
      "Epoch 50/100\n",
      "94/94 [==============================] - 1s 12ms/step - loss: 0.3082 - auc: 0.9624 - val_loss: 0.4182 - val_auc: 0.8815\n",
      "Epoch 51/100\n",
      "94/94 [==============================] - ETA: 0s - loss: 0.3038 - auc: 0.9631INFO:tensorflow:Assets written to: checkpoint.hd5\\assets\n"
     ]
    },
    {
     "name": "stderr",
     "output_type": "stream",
     "text": [
      "INFO:tensorflow:Assets written to: checkpoint.hd5\\assets\n"
     ]
    },
    {
     "name": "stdout",
     "output_type": "stream",
     "text": [
      "94/94 [==============================] - 2s 23ms/step - loss: 0.3038 - auc: 0.9631 - val_loss: 0.4163 - val_auc: 0.8820\n",
      "Epoch 52/100\n",
      "92/94 [============================>.] - ETA: 0s - loss: 0.2997 - auc: 0.9642INFO:tensorflow:Assets written to: checkpoint.hd5\\assets\n"
     ]
    },
    {
     "name": "stderr",
     "output_type": "stream",
     "text": [
      "INFO:tensorflow:Assets written to: checkpoint.hd5\\assets\n"
     ]
    },
    {
     "name": "stdout",
     "output_type": "stream",
     "text": [
      "94/94 [==============================] - 2s 23ms/step - loss: 0.2996 - auc: 0.9644 - val_loss: 0.4142 - val_auc: 0.8830\n",
      "Epoch 53/100\n",
      "94/94 [==============================] - ETA: 0s - loss: 0.2939 - auc: 0.9653INFO:tensorflow:Assets written to: checkpoint.hd5\\assets\n"
     ]
    },
    {
     "name": "stderr",
     "output_type": "stream",
     "text": [
      "INFO:tensorflow:Assets written to: checkpoint.hd5\\assets\n"
     ]
    },
    {
     "name": "stdout",
     "output_type": "stream",
     "text": [
      "94/94 [==============================] - 2s 25ms/step - loss: 0.2939 - auc: 0.9653 - val_loss: 0.4122 - val_auc: 0.8841\n",
      "Epoch 54/100\n",
      "94/94 [==============================] - ETA: 0s - loss: 0.2898 - auc: 0.9667INFO:tensorflow:Assets written to: checkpoint.hd5\\assets\n"
     ]
    },
    {
     "name": "stderr",
     "output_type": "stream",
     "text": [
      "INFO:tensorflow:Assets written to: checkpoint.hd5\\assets\n"
     ]
    },
    {
     "name": "stdout",
     "output_type": "stream",
     "text": [
      "94/94 [==============================] - 2s 23ms/step - loss: 0.2898 - auc: 0.9667 - val_loss: 0.4108 - val_auc: 0.8852\n",
      "Epoch 55/100\n",
      "94/94 [==============================] - ETA: 0s - loss: 0.2841 - auc: 0.9685INFO:tensorflow:Assets written to: checkpoint.hd5\\assets\n"
     ]
    },
    {
     "name": "stderr",
     "output_type": "stream",
     "text": [
      "INFO:tensorflow:Assets written to: checkpoint.hd5\\assets\n"
     ]
    },
    {
     "name": "stdout",
     "output_type": "stream",
     "text": [
      "94/94 [==============================] - 2s 25ms/step - loss: 0.2841 - auc: 0.9685 - val_loss: 0.4093 - val_auc: 0.8861\n",
      "Epoch 56/100\n",
      "93/94 [============================>.] - ETA: 0s - loss: 0.2801 - auc: 0.9694INFO:tensorflow:Assets written to: checkpoint.hd5\\assets\n"
     ]
    },
    {
     "name": "stderr",
     "output_type": "stream",
     "text": [
      "INFO:tensorflow:Assets written to: checkpoint.hd5\\assets\n"
     ]
    },
    {
     "name": "stdout",
     "output_type": "stream",
     "text": [
      "94/94 [==============================] - 2s 24ms/step - loss: 0.2802 - auc: 0.9694 - val_loss: 0.4078 - val_auc: 0.8868\n",
      "Epoch 57/100\n",
      "92/94 [============================>.] - ETA: 0s - loss: 0.2773 - auc: 0.9699INFO:tensorflow:Assets written to: checkpoint.hd5\\assets\n"
     ]
    },
    {
     "name": "stderr",
     "output_type": "stream",
     "text": [
      "INFO:tensorflow:Assets written to: checkpoint.hd5\\assets\n"
     ]
    },
    {
     "name": "stdout",
     "output_type": "stream",
     "text": [
      "94/94 [==============================] - 2s 25ms/step - loss: 0.2768 - auc: 0.9700 - val_loss: 0.4064 - val_auc: 0.8869\n",
      "Epoch 58/100\n",
      "93/94 [============================>.] - ETA: 0s - loss: 0.2719 - auc: 0.9712INFO:tensorflow:Assets written to: checkpoint.hd5\\assets\n"
     ]
    },
    {
     "name": "stderr",
     "output_type": "stream",
     "text": [
      "INFO:tensorflow:Assets written to: checkpoint.hd5\\assets\n"
     ]
    },
    {
     "name": "stdout",
     "output_type": "stream",
     "text": [
      "94/94 [==============================] - 2s 24ms/step - loss: 0.2720 - auc: 0.9711 - val_loss: 0.4052 - val_auc: 0.8872\n",
      "Epoch 59/100\n",
      "92/94 [============================>.] - ETA: 0s - loss: 0.2678 - auc: 0.9726INFO:tensorflow:Assets written to: checkpoint.hd5\\assets\n"
     ]
    },
    {
     "name": "stderr",
     "output_type": "stream",
     "text": [
      "INFO:tensorflow:Assets written to: checkpoint.hd5\\assets\n"
     ]
    },
    {
     "name": "stdout",
     "output_type": "stream",
     "text": [
      "94/94 [==============================] - 2s 24ms/step - loss: 0.2676 - auc: 0.9724 - val_loss: 0.4036 - val_auc: 0.8882\n",
      "Epoch 60/100\n",
      "94/94 [==============================] - 1s 13ms/step - loss: 0.2631 - auc: 0.9734 - val_loss: 0.4025 - val_auc: 0.8879\n",
      "Epoch 61/100\n",
      "94/94 [==============================] - 1s 13ms/step - loss: 0.2604 - auc: 0.9736 - val_loss: 0.4010 - val_auc: 0.8882\n",
      "Epoch 62/100\n",
      "94/94 [==============================] - 1s 12ms/step - loss: 0.2566 - auc: 0.9742 - val_loss: 0.3999 - val_auc: 0.8882\n",
      "Epoch 63/100\n",
      "94/94 [==============================] - ETA: 0s - loss: 0.2510 - auc: 0.9756INFO:tensorflow:Assets written to: checkpoint.hd5\\assets\n"
     ]
    },
    {
     "name": "stderr",
     "output_type": "stream",
     "text": [
      "INFO:tensorflow:Assets written to: checkpoint.hd5\\assets\n"
     ]
    },
    {
     "name": "stdout",
     "output_type": "stream",
     "text": [
      "94/94 [==============================] - 2s 25ms/step - loss: 0.2510 - auc: 0.9756 - val_loss: 0.3986 - val_auc: 0.8884\n",
      "Epoch 64/100\n",
      "94/94 [==============================] - ETA: 0s - loss: 0.2468 - auc: 0.9766INFO:tensorflow:Assets written to: checkpoint.hd5\\assets\n"
     ]
    },
    {
     "name": "stderr",
     "output_type": "stream",
     "text": [
      "INFO:tensorflow:Assets written to: checkpoint.hd5\\assets\n"
     ]
    },
    {
     "name": "stdout",
     "output_type": "stream",
     "text": [
      "94/94 [==============================] - 2s 25ms/step - loss: 0.2468 - auc: 0.9766 - val_loss: 0.3976 - val_auc: 0.8884\n",
      "Epoch 65/100\n",
      "94/94 [==============================] - 1s 14ms/step - loss: 0.2421 - auc: 0.9775 - val_loss: 0.3966 - val_auc: 0.8884\n",
      "Epoch 66/100\n",
      "94/94 [==============================] - ETA: 0s - loss: 0.2400 - auc: 0.9778INFO:tensorflow:Assets written to: checkpoint.hd5\\assets\n"
     ]
    },
    {
     "name": "stderr",
     "output_type": "stream",
     "text": [
      "INFO:tensorflow:Assets written to: checkpoint.hd5\\assets\n"
     ]
    },
    {
     "name": "stdout",
     "output_type": "stream",
     "text": [
      "94/94 [==============================] - 2s 21ms/step - loss: 0.2400 - auc: 0.9778 - val_loss: 0.3955 - val_auc: 0.8895\n",
      "Epoch 67/100\n",
      "94/94 [==============================] - 1s 16ms/step - loss: 0.2371 - auc: 0.9783 - val_loss: 0.3947 - val_auc: 0.8893\n",
      "Epoch 68/100\n",
      "94/94 [==============================] - ETA: 0s - loss: 0.2338 - auc: 0.9789INFO:tensorflow:Assets written to: checkpoint.hd5\\assets\n"
     ]
    },
    {
     "name": "stderr",
     "output_type": "stream",
     "text": [
      "INFO:tensorflow:Assets written to: checkpoint.hd5\\assets\n"
     ]
    },
    {
     "name": "stdout",
     "output_type": "stream",
     "text": [
      "94/94 [==============================] - 2s 23ms/step - loss: 0.2338 - auc: 0.9789 - val_loss: 0.3934 - val_auc: 0.8898\n",
      "Epoch 69/100\n",
      "94/94 [==============================] - 1s 12ms/step - loss: 0.2287 - auc: 0.9803 - val_loss: 0.3927 - val_auc: 0.8893\n",
      "Epoch 70/100\n",
      "94/94 [==============================] - ETA: 0s - loss: 0.2254 - auc: 0.9807INFO:tensorflow:Assets written to: checkpoint.hd5\\assets\n"
     ]
    },
    {
     "name": "stderr",
     "output_type": "stream",
     "text": [
      "INFO:tensorflow:Assets written to: checkpoint.hd5\\assets\n"
     ]
    },
    {
     "name": "stdout",
     "output_type": "stream",
     "text": [
      "94/94 [==============================] - 2s 25ms/step - loss: 0.2254 - auc: 0.9807 - val_loss: 0.3917 - val_auc: 0.8905\n",
      "Epoch 71/100\n",
      "94/94 [==============================] - 1s 14ms/step - loss: 0.2216 - auc: 0.9813 - val_loss: 0.3911 - val_auc: 0.8903\n",
      "Epoch 72/100\n",
      "93/94 [============================>.] - ETA: 0s - loss: 0.2185 - auc: 0.9823INFO:tensorflow:Assets written to: checkpoint.hd5\\assets\n"
     ]
    },
    {
     "name": "stderr",
     "output_type": "stream",
     "text": [
      "INFO:tensorflow:Assets written to: checkpoint.hd5\\assets\n"
     ]
    },
    {
     "name": "stdout",
     "output_type": "stream",
     "text": [
      "94/94 [==============================] - 2s 22ms/step - loss: 0.2186 - auc: 0.9823 - val_loss: 0.3902 - val_auc: 0.8908\n",
      "Epoch 73/100\n",
      "93/94 [============================>.] - ETA: 0s - loss: 0.2152 - auc: 0.9827INFO:tensorflow:Assets written to: checkpoint.hd5\\assets\n"
     ]
    },
    {
     "name": "stderr",
     "output_type": "stream",
     "text": [
      "INFO:tensorflow:Assets written to: checkpoint.hd5\\assets\n"
     ]
    },
    {
     "name": "stdout",
     "output_type": "stream",
     "text": [
      "94/94 [==============================] - 2s 24ms/step - loss: 0.2152 - auc: 0.9827 - val_loss: 0.3893 - val_auc: 0.8912\n",
      "Epoch 74/100\n",
      "94/94 [==============================] - ETA: 0s - loss: 0.2119 - auc: 0.9831INFO:tensorflow:Assets written to: checkpoint.hd5\\assets\n"
     ]
    },
    {
     "name": "stderr",
     "output_type": "stream",
     "text": [
      "INFO:tensorflow:Assets written to: checkpoint.hd5\\assets\n"
     ]
    },
    {
     "name": "stdout",
     "output_type": "stream",
     "text": [
      "94/94 [==============================] - 2s 26ms/step - loss: 0.2119 - auc: 0.9831 - val_loss: 0.3887 - val_auc: 0.8925\n",
      "Epoch 75/100\n",
      "94/94 [==============================] - 1s 13ms/step - loss: 0.2099 - auc: 0.9832 - val_loss: 0.3882 - val_auc: 0.8920\n",
      "Epoch 76/100\n",
      "93/94 [============================>.] - ETA: 0s - loss: 0.2069 - auc: 0.9837INFO:tensorflow:Assets written to: checkpoint.hd5\\assets\n"
     ]
    },
    {
     "name": "stderr",
     "output_type": "stream",
     "text": [
      "INFO:tensorflow:Assets written to: checkpoint.hd5\\assets\n"
     ]
    },
    {
     "name": "stdout",
     "output_type": "stream",
     "text": [
      "94/94 [==============================] - 2s 23ms/step - loss: 0.2067 - auc: 0.9838 - val_loss: 0.3870 - val_auc: 0.8938\n",
      "Epoch 77/100\n",
      "94/94 [==============================] - 1s 12ms/step - loss: 0.2039 - auc: 0.9846 - val_loss: 0.3867 - val_auc: 0.8928\n",
      "Epoch 78/100\n",
      "94/94 [==============================] - 1s 16ms/step - loss: 0.1999 - auc: 0.9854 - val_loss: 0.3859 - val_auc: 0.8931\n",
      "Epoch 79/100\n",
      "94/94 [==============================] - 1s 14ms/step - loss: 0.1976 - auc: 0.9856 - val_loss: 0.3856 - val_auc: 0.8936\n",
      "Epoch 80/100\n",
      "94/94 [==============================] - 1s 15ms/step - loss: 0.1952 - auc: 0.9858 - val_loss: 0.3855 - val_auc: 0.8932\n"
     ]
    }
   ],
   "source": [
    "import absl.logging\n",
    "absl.logging.set_verbosity(absl.logging.ERROR)\n",
    "\n",
    "callbacks = [tf.keras.callbacks.EarlyStopping(monitor='val_auc', patience=4, mode='max'),\n",
    "             tf.keras.callbacks.EarlyStopping(monitor='val_loss', patience=3, mode='min'),\n",
    "             tf.keras.callbacks.ModelCheckpoint(filepath='checkpoint.hd5', monitor='val_auc', save_best_only=True, mode='max')\n",
    "             ]\n",
    "\n",
    "model_results = model.fit([train_text, train_feats], y_train_n, validation_split=0.02,\n",
    "                          epochs=100, batch_size=64, callbacks=callbacks,\n",
    "                          use_multiprocessing=True)"
   ]
  },
  {
   "cell_type": "code",
   "execution_count": 27,
   "metadata": {},
   "outputs": [
    {
     "data": {
      "image/png": "[encoded data removed]",
      "text/plain": [
       "<Figure size 1100x1100 with 2 Axes>"
      ]
     },
     "metadata": {},
     "output_type": "display_data"
    }
   ],
   "source": [
    "plot_history(model_results)"
   ]
  },
  {
   "attachments": {},
   "cell_type": "markdown",
   "metadata": {},
   "source": [
    "Above is a plot of the training and validation accuracy and loss. The model seems to be overfitting more as the epochs increase, and we can see the best epoch for loss is around 79, where the best epoch for accuracy is around 76. This indicates that the model may be overfitting and may not perform well when deployed in the real world. However, the model may also be improved by changing the optimizer, learning rate, adding more layers or the amount of training data avaliable."
   ]
  },
  {
   "attachments": {},
   "cell_type": "markdown",
   "metadata": {},
   "source": [
    "### Evaluate Model"
   ]
  },
  {
   "cell_type": "code",
   "execution_count": 31,
   "metadata": {},
   "outputs": [
    {
     "name": "stdout",
     "output_type": "stream",
     "text": [
      "48/48 [==============================] - 2s 35ms/step - loss: 0.4505 - auc: 0.8625\n"
     ]
    },
    {
     "data": {
      "text/plain": [
       "[0.45050153136253357, 0.8624657392501831]"
      ]
     },
     "execution_count": 31,
     "metadata": {},
     "output_type": "execute_result"
    }
   ],
   "source": [
    "model.load_weights('checkpoint.hd5')\n",
    "\n",
    "model.evaluate([test_text, test_feats], y_test_n)"
   ]
  },
  {
   "cell_type": "code",
   "execution_count": 29,
   "metadata": {},
   "outputs": [
    {
     "name": "stdout",
     "output_type": "stream",
     "text": [
      "191/191 [==============================] - 6s 33ms/step\n",
      "48/48 [==============================] - 2s 36ms/step\n"
     ]
    },
    {
     "data": {
      "image/png": "[encoded data removed]",
      "text/plain": [
       "<Figure size 1000x1000 with 1 Axes>"
      ]
     },
     "metadata": {},
     "output_type": "display_data"
    }
   ],
   "source": [
    "plot_roc([train_text, train_feats], [test_text, test_feats], y_train_n, y_test_n, model)"
   ]
  },
  {
   "attachments": {},
   "cell_type": "markdown",
   "metadata": {},
   "source": [
    "Above we see the results for our test data set. The model has an AUC of .86, which is not bad. However, from the ROC AUC plot above we can see that the model is still overfitting to the training data and is not generalizing to the test data as well as it could. This could be due to many factors, such as the amount or accuracy of training data, the amount of features, the model architecture, the learning rate, and the amount of epochs. However, the model is still able to predict wheather or not a tweet is about a real disaster with a decent accuracy."
   ]
  }
 ],
 "metadata": {
  "kernelspec": {
   "display_name": "geoprj",
   "language": "python",
   "name": "python3"
  },
  "language_info": {
   "codemirror_mode": {
    "name": "ipython",
    "version": 3
   },
   "file_extension": ".py",
   "mimetype": "text/x-python",
   "name": "python",
   "nbconvert_exporter": "python",
   "pygments_lexer": "ipython3",
   "version": "3.10.8"
  },
  "orig_nbformat": 4,
  "vscode": {
   "interpreter": {
    "hash": "23234625f55973f7a58126a35d86facfdbb1213f4cf262be4a4984331c60271a"
   }
  }
 },
 "nbformat": 4,
 "nbformat_minor": 2
}
