{
 "cells": [
  {
   "attachments": {},
   "cell_type": "markdown",
   "metadata": {},
   "source": [
    "# Natural Language Processing (NLP) and Neural Networks with NLTK and the Tensorflow Keras API"
   ]
  },
  {
   "attachments": {},
   "cell_type": "markdown",
   "metadata": {},
   "source": [
    "### Introduction"
   ]
  },
  {
   "attachments": {},
   "cell_type": "markdown",
   "metadata": {},
   "source": [
    "In this notebook, I will be building a model to predict whether or not a tweet is about a real disaster, using the data given for the assignment. The data has been provided in separate training and test sets, so only the training set will be used in the model training/validation while the test set will be saved for the end to evalute the model.\n",
    "\n",
    "First the data will be loaded and explored, then the data will be cleaned and preprocessed, and finally the model will be built and trained. I decided to add some features to the data set (e.g. number of words in a tweet) to see if they would improve the model's performance. I also used the prebuild sentiment analysis model from the NLTK library to see if it would improve the model's performance. Finally I used the sklearn library to vectorize the text data with the TF-IDF vectorizer and the nltk tweet tokenizer to tokenize the text data. After all of this, I used the tensorflow.keras library to build and train the model."
   ]
  },
  {
   "attachments": {},
   "cell_type": "markdown",
   "metadata": {},
   "source": [
    "### Import Libraries"
   ]
  },
  {
   "cell_type": "code",
   "execution_count": 1,
   "metadata": {},
   "outputs": [],
   "source": [
    "import numpy as np\n",
    "import pandas as pd\n",
    "import nltk\n",
    "from nltk.corpus import stopwords\n",
    "from nltk.sentiment.vader import SentimentIntensityAnalyzer\n",
    "from sklearn.feature_extraction.text import TfidfVectorizer\n",
    "from nltk.tokenize import TweetTokenizer\n",
    "import tensorflow as tf\n",
    "from matplotlib import pyplot as plt\n",
    "from sklearn.metrics import roc_curve\n",
    "import random"
   ]
  },
  {
   "cell_type": "code",
   "execution_count": 2,
   "metadata": {},
   "outputs": [],
   "source": [
    "random.seed(42)"
   ]
  },
  {
   "cell_type": "code",
   "execution_count": 3,
   "metadata": {},
   "outputs": [
    {
     "name": "stderr",
     "output_type": "stream",
     "text": [
      "[nltk_data] Downloading package stopwords to\n",
      "[nltk_data]     C:\\Users\\chief\\AppData\\Roaming\\nltk_data...\n",
      "[nltk_data]   Package stopwords is already up-to-date!\n",
      "[nltk_data] Downloading package vader_lexicon to\n",
      "[nltk_data]     C:\\Users\\chief\\AppData\\Roaming\\nltk_data...\n",
      "[nltk_data]   Package vader_lexicon is already up-to-date!\n"
     ]
    },
    {
     "data": {
      "text/plain": [
       "True"
      ]
     },
     "execution_count": 3,
     "metadata": {},
     "output_type": "execute_result"
    }
   ],
   "source": [
    "nltk.download('stopwords')\n",
    "nltk.download('vader_lexicon')"
   ]
  },
  {
   "cell_type": "code",
   "execution_count": 4,
   "metadata": {},
   "outputs": [],
   "source": [
    "stop_words = set(stopwords.words('english'))"
   ]
  },
  {
   "attachments": {},
   "cell_type": "markdown",
   "metadata": {},
   "source": [
    "### Custom Functions"
   ]
  },
  {
   "attachments": {},
   "cell_type": "markdown",
   "metadata": {},
   "source": [
    "list of custom functions:\n",
    "\n",
    "1. *dtype_convert*: converts the data type of a column in a dataframe\n",
    "2. *link_count*: if a link exists in a tweet\n",
    "2. *get_polarity*: returns the polarity of a tweet using the NLTK sentiment analysis model\n",
    "2. *return_xy*: returns the x and y data from a dataframe\n",
    "2. *return_vectorized_data*: returns the vectorized text and extra features from a dataframe\n",
    "2. *plot_history*: plots the training and validation accuracy and loss from a history object\n",
    "2. *plot_roc*: plots the ROC curve using the best saved model and the test data"
   ]
  },
  {
   "cell_type": "code",
   "execution_count": 5,
   "metadata": {},
   "outputs": [],
   "source": [
    "def dtype_convert(data):\n",
    "\n",
    "    int_list = ['int8', 'int16', 'int32', 'int64']\n",
    "    float_list = ['float16', 'float32', 'float64']\n",
    "\n",
    "    for col in data.select_dtypes(include=np.number).columns:\n",
    "\n",
    "        data_type = data[col].dtype\n",
    "        \n",
    "        if data_type in int_list:\n",
    "\n",
    "            n_range = [abs(data[col].max()), abs(data[col].min())]\n",
    "            n_max = max(n_range)\n",
    "\n",
    "            if n_max <= 127:\n",
    "                data[col] = data[col].astype(np.int8)\n",
    "\n",
    "            elif n_max <= 32767:\n",
    "                data[col] = data[col].astype(np.int16)\n",
    "\n",
    "            elif n_max <= 2147483647:\n",
    "                data[col] = data[col].astype(np.int32)\n",
    "\n",
    "            else:\n",
    "                data[col] = data[col].astype(np.int64)\n",
    "\n",
    "        elif data_type in float_list:\n",
    "                \n",
    "                n_range = [abs(data[col].max()), abs(data[col].min())]\n",
    "                n_max = max(n_range)\n",
    "    \n",
    "                if n_max <= 3.4e+38:\n",
    "                    data[col] = data[col].astype(np.float32)\n",
    "    \n",
    "                else:\n",
    "                    data[col] = data[col].astype(np.float64)\n",
    "    \n",
    "    return data\n",
    "        "
   ]
  },
  {
   "cell_type": "code",
   "execution_count": 6,
   "metadata": {},
   "outputs": [],
   "source": [
    "def link_count(text):\n",
    "\n",
    "    links = text.count('http')\n",
    "\n",
    "    if links > 0:\n",
    "\n",
    "        return 1\n",
    "    \n",
    "    else:\n",
    "\n",
    "        return 0"
   ]
  },
  {
   "cell_type": "code",
   "execution_count": 7,
   "metadata": {},
   "outputs": [],
   "source": [
    "def get_polarity(row):\n",
    "\n",
    "    sia = SentimentIntensityAnalyzer()\n",
    "\n",
    "    text = row['text']\n",
    "    polarity = sia.polarity_scores(text)\n",
    "\n",
    "    neg = polarity['neg']\n",
    "    neu = polarity['neu']\n",
    "    pos = polarity['pos']\n",
    "    compound = polarity['compound']\n",
    "\n",
    "    return neg, neu, pos, compound"
   ]
  },
  {
   "cell_type": "code",
   "execution_count": 8,
   "metadata": {},
   "outputs": [],
   "source": [
    "def return_xy(data):\n",
    "\n",
    "    # Add new features including polarity scores\n",
    "    # Binary feature for whether a tweet contains a link\n",
    "    data['links'] = data['text'].apply(link_count).astype(np.int8)\n",
    "    \n",
    "    data['tweet_len'] = data['text'].str.len()\n",
    "    data['word_count'] = data['text'].str.split().str.len()\n",
    "    data['word_density'] = data['tweet_len'] / (data['word_count'])\n",
    "\n",
    "    # Get polarity scores\n",
    "    print('Getting polarity scores...')\n",
    "    data['neg'], data['neu'], data['pos'], data['compound'] = zip(*data.apply(get_polarity, axis=1))\n",
    "\n",
    "    # Convert dtypes to save memory\n",
    "    #data['target'] = data['target'].astype('bool')\n",
    "    data = dtype_convert(data)\n",
    "    \n",
    "    # Columns for X and y\n",
    "    X = data.drop('target', axis=1)\n",
    "    y = data['target'].astype('int8')\n",
    "\n",
    "    return X, y"
   ]
  },
  {
   "cell_type": "code",
   "execution_count": 9,
   "metadata": {},
   "outputs": [],
   "source": [
    "def return_vectorized_data(train, test, text, features, max_features=None, stop_words=None):\n",
    "\n",
    "    tk = TweetTokenizer(preserve_case=False, strip_handles=True, reduce_len=True)\n",
    "\n",
    "    vectorizer = TfidfVectorizer(tokenizer=tk.tokenize, strip_accents='unicode', max_features=max_features, stop_words=stop_words)\n",
    "\n",
    "    v_train = vectorizer.fit_transform(train[text])\n",
    "    v_test = vectorizer.transform(test[text])\n",
    "\n",
    "    v_train = pd.DataFrame(v_train.toarray(), columns=vectorizer.get_feature_names_out(), index=train.index)\n",
    "    v_test = pd.DataFrame(v_test.toarray(), columns=vectorizer.get_feature_names_out(), index=test.index)\n",
    "\n",
    "    v_train = v_train[v_train.columns].astype(np.float32)\n",
    "    v_test = v_test[v_test.columns].astype(np.float32)\n",
    "\n",
    "    v_train = v_train.join(train[features], how='left', lsuffix='_v', rsuffix='_f')\n",
    "    v_test = v_test.join(test[features], how='left', lsuffix='_v', rsuffix='_f')\n",
    "\n",
    "    return v_train, v_test"
   ]
  },
  {
   "cell_type": "code",
   "execution_count": 10,
   "metadata": {},
   "outputs": [],
   "source": [
    "def plot_history(history):\n",
    "\n",
    "    fig, ax = plt.subplots(2, 1, figsize=(11, 11))\n",
    "\n",
    "    auc_best = np.max(history.history['val_auc'])\n",
    "    auc_best_epoch = np.argmax(history.history['val_auc'])\n",
    "    auc_max = history.history['auc'][auc_best_epoch]\n",
    "\n",
    "\n",
    "    ax[0].plot(history.history['auc'], label='Train')\n",
    "    ax[0].plot(history.history['val_auc'], label='Validation')\n",
    "    ax[0].vlines(auc_best_epoch, 0, np.max(history.history['val_auc']), color='purple', linestyles='dashed', label='Best Epoch')\n",
    "\n",
    "    ax[0].annotate(f'{auc_best - np.max(history.history[\"auc\"]):.4f}',\n",
    "                    xy=(auc_best_epoch, auc_max),\n",
    "                    xytext=(auc_best_epoch, auc_best-0.05),\n",
    "                    arrowprops=dict(facecolor='black', shrink=0.05, width=0.7, headwidth=5))\n",
    "\n",
    "    ax[0].set_ylabel('AUC')\n",
    "    #ax[0].set_title('AUC vs. Epoch')\n",
    "    ax[0].legend(loc='lower left')\n",
    "\n",
    "    loss_best = np.min(history.history['val_loss'])\n",
    "    loss_best_epoch = np.argmin(history.history['val_loss'])\n",
    "    loss_max = history.history['loss'][loss_best_epoch]\n",
    "\n",
    "    ax[1].plot(history.history['loss'], label='Train')\n",
    "    ax[1].plot(history.history['val_loss'], label='Validation')\n",
    "    ax[1].vlines(loss_best_epoch, 0, loss_best, color='purple', linestyles='dashed', label='Best Epoch')\n",
    "\n",
    "    ax[1].annotate(f'{loss_best - np.min(history.history[\"loss\"]):.4f}',\n",
    "                    xy=(loss_best_epoch, loss_max),\n",
    "                    xytext=(loss_best_epoch, loss_best+.01),\n",
    "                    arrowprops=dict(facecolor='black', shrink=0, width=0.7, headwidth=5))\n",
    "\n",
    "    ax[1].set_xlabel('Epoch')\n",
    "    ax[1].set_ylabel('Loss')\n",
    "    #ax[1].set_title('Loss vs. Epoch')\n",
    "\n",
    "    ax[1].legend(loc='lower left')\n",
    "\n",
    "    plt.show()"
   ]
  },
  {
   "cell_type": "code",
   "execution_count": 11,
   "metadata": {},
   "outputs": [],
   "source": [
    "def plot_roc(X_train, X_test, y_train, y_test, model):\n",
    "    \n",
    "    fpr_train, tpr_train, thresholds_train = roc_curve(y_train, model.predict(X_train))\n",
    "    fpr_test, tpr_test, thresholds_test = roc_curve(y_test, model.predict(X_test))\n",
    "\n",
    "    # Set figure size\n",
    "    plt.figure(figsize=(10, 10))\n",
    "\n",
    "    plt.plot(fpr_train, tpr_train, label='Train')\n",
    "    plt.plot(fpr_test, tpr_test, label='Test')\n",
    "\n",
    "    plt.legend(['Train', 'Test'], loc='upper left')\n",
    "\n",
    "    plt.xlabel('False Positive Rate')\n",
    "    plt.ylabel('True Positive Rate')\n",
    "    plt.title('ROC AUC Curve')\n",
    "    plt.show()"
   ]
  },
  {
   "cell_type": "markdown",
   "metadata": {},
   "source": [
    "### Import Data"
   ]
  },
  {
   "cell_type": "code",
   "execution_count": 12,
   "metadata": {},
   "outputs": [],
   "source": [
    "train_data = pd.read_csv('bonus_train_data-2.csv')\n",
    "test_data = pd.read_csv('bonus_test_data-2.csv')"
   ]
  },
  {
   "attachments": {},
   "cell_type": "markdown",
   "metadata": {},
   "source": [
    "### Add Features"
   ]
  },
  {
   "cell_type": "code",
   "execution_count": 13,
   "metadata": {},
   "outputs": [
    {
     "name": "stdout",
     "output_type": "stream",
     "text": [
      "Getting polarity scores...\n",
      "Getting polarity scores...\n"
     ]
    }
   ],
   "source": [
    "X_train, y_train = return_xy(train_data)\n",
    "X_test, y_test = return_xy(test_data)\n",
    "\n",
    "features = ['tweet_len', 'word_count', 'word_density', 'links', 'neg', 'neu', 'pos', 'compound']"
   ]
  },
  {
   "attachments": {},
   "cell_type": "markdown",
   "metadata": {},
   "source": [
    "### Tokenize and Vectorize Data"
   ]
  },
  {
   "cell_type": "code",
   "execution_count": 14,
   "metadata": {},
   "outputs": [],
   "source": [
    "# Runs the custom function to vectorize the data\n",
    "X_train_v, X_test_v = return_vectorized_data(X_train, X_test, 'text', features=features, max_features=None, stop_words=stop_words)"
   ]
  },
  {
   "attachments": {},
   "cell_type": "markdown",
   "metadata": {},
   "source": [
    "### Train Model"
   ]
  },
  {
   "attachments": {},
   "cell_type": "markdown",
   "metadata": {},
   "source": [
    "First we convert the dataframes to numpy arrays to work with the keras api. I used the functional api to build the model. It has two hidden layers, a concatenated layer of the original input and previous hidden layers, and one more hidden layer before the output layer. I used the Adam optimizer and the binary crossentropy loss function. I also used the early stopping and checkpoint callbacks to save the best model. I used the fit method to train the model."
   ]
  },
  {
   "cell_type": "code",
   "execution_count": 15,
   "metadata": {},
   "outputs": [],
   "source": [
    "# Convert to numpy arrays\n",
    "X_train_v_n = X_train_v.to_numpy()\n",
    "X_test_v_n = X_test_v.to_numpy()\n",
    "\n",
    "y_train_n = y_train.to_numpy()\n",
    "y_test_n = y_test.to_numpy()"
   ]
  },
  {
   "cell_type": "code",
   "execution_count": 16,
   "metadata": {},
   "outputs": [
    {
     "name": "stdout",
     "output_type": "stream",
     "text": [
      "Model: \"model\"\n",
      "__________________________________________________________________________________________________\n",
      " Layer (type)                   Output Shape         Param #     Connected to                     \n",
      "==================================================================================================\n",
      " input_1 (InputLayer)           [(None, 17789)]      0           []                               \n",
      "                                                                                                  \n",
      " dense (Dense)                  (None, 32)           569280      ['input_1[0][0]']                \n",
      "                                                                                                  \n",
      " dropout (Dropout)              (None, 32)           0           ['dense[0][0]']                  \n",
      "                                                                                                  \n",
      " dense_1 (Dense)                (None, 32)           1056        ['dropout[0][0]']                \n",
      "                                                                                                  \n",
      " dropout_1 (Dropout)            (None, 32)           0           ['dense_1[0][0]']                \n",
      "                                                                                                  \n",
      " concatenate (Concatenate)      (None, 17821)        0           ['dropout_1[0][0]',              \n",
      "                                                                  'input_1[0][0]']                \n",
      "                                                                                                  \n",
      " dense_2 (Dense)                (None, 32)           570304      ['concatenate[0][0]']            \n",
      "                                                                                                  \n",
      " dropout_2 (Dropout)            (None, 32)           0           ['dense_2[0][0]']                \n",
      "                                                                                                  \n",
      " dense_3 (Dense)                (None, 1)            33          ['dropout_2[0][0]']              \n",
      "                                                                                                  \n",
      "==================================================================================================\n",
      "Total params: 1,140,673\n",
      "Trainable params: 1,140,673\n",
      "Non-trainable params: 0\n",
      "__________________________________________________________________________________________________\n"
     ]
    }
   ],
   "source": [
    "tf.keras.backend.clear_session()\n",
    "\n",
    "act1 = tf.keras.layers.LeakyReLU(alpha=0.05)\n",
    "\n",
    "#act1 = tf.keras.activations.\n",
    "\n",
    "input_ = tf.keras.layers.Input(shape=(X_train_v_n.shape[1],))\n",
    "\n",
    "x = tf.keras.layers.Dense(32, activation=act1)(input_)\n",
    "x = tf.keras.layers.Dropout(0.2)(x)\n",
    "\n",
    "x = tf.keras.layers.Dense(32, activation=act1)(x)\n",
    "x = tf.keras.layers.Dropout(0.2)(x)\n",
    "\n",
    "x = tf.keras.layers.Concatenate()([x, input_])\n",
    "x = tf.keras.layers.Dense(32, activation=act1)(x)\n",
    "x = tf.keras.layers.Dropout(0.2)(x)\n",
    "\n",
    "output_ = tf.keras.layers.Dense(1, activation='sigmoid')(x)\n",
    "\n",
    "model = tf.keras.models.Model(input_, output_)\n",
    "\n",
    "model.summary()"
   ]
  },
  {
   "cell_type": "code",
   "execution_count": null,
   "metadata": {},
   "outputs": [],
   "source": []
  },
  {
   "cell_type": "code",
   "execution_count": 17,
   "metadata": {},
   "outputs": [],
   "source": [
    "opt = tf.keras.optimizers.Adam(learning_rate=0.0005)\n",
    "metric = tf.keras.metrics.AUC()\n",
    "\n",
    "model.compile(optimizer=opt, loss='binary_crossentropy', metrics=metric)"
   ]
  },
  {
   "cell_type": "code",
   "execution_count": 18,
   "metadata": {},
   "outputs": [
    {
     "name": "stdout",
     "output_type": "stream",
     "text": [
      "Epoch 1/100\n",
      "63/63 [==============================] - ETA: 0s - loss: 0.7552 - auc: 0.5064INFO:tensorflow:Assets written to: checkpoint.hd5\\assets\n"
     ]
    },
    {
     "name": "stderr",
     "output_type": "stream",
     "text": [
      "INFO:tensorflow:Assets written to: checkpoint.hd5\\assets\n"
     ]
    },
    {
     "name": "stdout",
     "output_type": "stream",
     "text": [
      "63/63 [==============================] - 4s 50ms/step - loss: 0.7552 - auc: 0.5064 - val_loss: 0.6654 - val_auc: 0.7341\n",
      "Epoch 2/100\n",
      "63/63 [==============================] - ETA: 0s - loss: 0.6623 - auc: 0.6269INFO:tensorflow:Assets written to: checkpoint.hd5\\assets\n"
     ]
    },
    {
     "name": "stderr",
     "output_type": "stream",
     "text": [
      "INFO:tensorflow:Assets written to: checkpoint.hd5\\assets\n"
     ]
    },
    {
     "name": "stdout",
     "output_type": "stream",
     "text": [
      "63/63 [==============================] - 3s 45ms/step - loss: 0.6623 - auc: 0.6269 - val_loss: 0.6349 - val_auc: 0.8266\n",
      "Epoch 3/100\n",
      "63/63 [==============================] - 2s 32ms/step - loss: 0.6148 - auc: 0.7506 - val_loss: 0.6101 - val_auc: 0.7611\n",
      "Epoch 4/100\n",
      "63/63 [==============================] - 1s 14ms/step - loss: 0.5665 - auc: 0.8106 - val_loss: 0.5556 - val_auc: 0.8240\n",
      "Epoch 5/100\n",
      "63/63 [==============================] - 1s 15ms/step - loss: 0.5228 - auc: 0.8275 - val_loss: 0.5233 - val_auc: 0.8255\n",
      "Epoch 6/100\n",
      "63/63 [==============================] - ETA: 0s - loss: 0.4515 - auc: 0.8760INFO:tensorflow:Assets written to: checkpoint.hd5\\assets\n"
     ]
    },
    {
     "name": "stderr",
     "output_type": "stream",
     "text": [
      "INFO:tensorflow:Assets written to: checkpoint.hd5\\assets\n"
     ]
    },
    {
     "name": "stdout",
     "output_type": "stream",
     "text": [
      "63/63 [==============================] - 2s 39ms/step - loss: 0.4515 - auc: 0.8760 - val_loss: 0.4697 - val_auc: 0.8514\n",
      "Epoch 7/100\n",
      "63/63 [==============================] - ETA: 0s - loss: 0.3669 - auc: 0.9210INFO:tensorflow:Assets written to: checkpoint.hd5\\assets\n"
     ]
    },
    {
     "name": "stderr",
     "output_type": "stream",
     "text": [
      "INFO:tensorflow:Assets written to: checkpoint.hd5\\assets\n"
     ]
    },
    {
     "name": "stdout",
     "output_type": "stream",
     "text": [
      "63/63 [==============================] - 2s 35ms/step - loss: 0.3669 - auc: 0.9210 - val_loss: 0.4307 - val_auc: 0.8711\n",
      "Epoch 8/100\n",
      "63/63 [==============================] - ETA: 0s - loss: 0.2691 - auc: 0.9578INFO:tensorflow:Assets written to: checkpoint.hd5\\assets\n"
     ]
    },
    {
     "name": "stderr",
     "output_type": "stream",
     "text": [
      "INFO:tensorflow:Assets written to: checkpoint.hd5\\assets\n"
     ]
    },
    {
     "name": "stdout",
     "output_type": "stream",
     "text": [
      "63/63 [==============================] - 2s 35ms/step - loss: 0.2691 - auc: 0.9578 - val_loss: 0.4717 - val_auc: 0.8841\n",
      "Epoch 9/100\n",
      "63/63 [==============================] - 2s 36ms/step - loss: 0.2061 - auc: 0.9737 - val_loss: 0.5119 - val_auc: 0.8630\n",
      "Epoch 10/100\n",
      "63/63 [==============================] - 1s 19ms/step - loss: 0.1916 - auc: 0.9755 - val_loss: 0.5403 - val_auc: 0.8592\n"
     ]
    }
   ],
   "source": [
    "import absl.logging\n",
    "absl.logging.set_verbosity(absl.logging.ERROR)\n",
    "\n",
    "callbacks = [tf.keras.callbacks.EarlyStopping(monitor='val_auc', patience=4, mode='max'),\n",
    "             tf.keras.callbacks.EarlyStopping(monitor='val_loss', patience=3, mode='min'),\n",
    "             tf.keras.callbacks.ModelCheckpoint(filepath='checkpoint.hd5', monitor='val_auc', save_best_only=True, mode='max')\n",
    "             ]\n",
    "\n",
    "model_results = model.fit(X_train_v_n, y_train_n, validation_split=0.02,\n",
    "                          epochs=100, batch_size=96, callbacks=callbacks,\n",
    "                          use_multiprocessing=True)"
   ]
  },
  {
   "cell_type": "code",
   "execution_count": 19,
   "metadata": {},
   "outputs": [
    {
     "data": {
      "image/png": "[encoded data removed]",
      "text/plain": [
       "<Figure size 1100x1100 with 2 Axes>"
      ]
     },
     "metadata": {},
     "output_type": "display_data"
    }
   ],
   "source": [
    "plot_history(model_results)"
   ]
  },
  {
   "attachments": {},
   "cell_type": "markdown",
   "metadata": {},
   "source": [
    "Above is a plot of the training and validation accuracy and loss. The model seems to be overfitting more as the epochs increase, and we can see the best epoch for loss is around 6, where the best epoch for accuracy is around 7. This indicates that the model may be overfitting and we should stop training the model at around 6 epochs or 7 epochs. However, the model may also be improved by changing the optimizer, learning rate, adding more layers or the amount of training data avaliable."
   ]
  },
  {
   "attachments": {},
   "cell_type": "markdown",
   "metadata": {},
   "source": [
    "### Evaluate Model"
   ]
  },
  {
   "cell_type": "code",
   "execution_count": 20,
   "metadata": {},
   "outputs": [
    {
     "name": "stdout",
     "output_type": "stream",
     "text": [
      "48/48 [==============================] - 3s 61ms/step - loss: 0.5063 - auc: 0.8619\n"
     ]
    },
    {
     "data": {
      "text/plain": [
       "[0.5062516331672668, 0.8618751764297485]"
      ]
     },
     "execution_count": 20,
     "metadata": {},
     "output_type": "execute_result"
    }
   ],
   "source": [
    "model.load_weights('checkpoint.hd5')\n",
    "\n",
    "model.evaluate(X_test_v_n, y_test_n)"
   ]
  },
  {
   "cell_type": "code",
   "execution_count": 21,
   "metadata": {},
   "outputs": [
    {
     "name": "stdout",
     "output_type": "stream",
     "text": [
      "191/191 [==============================] - 11s 57ms/step\n",
      "48/48 [==============================] - 3s 63ms/step\n"
     ]
    },
    {
     "data": {
      "image/png": "[encoded data removed]",
      "text/plain": [
       "<Figure size 1000x1000 with 1 Axes>"
      ]
     },
     "metadata": {},
     "output_type": "display_data"
    }
   ],
   "source": [
    "plot_roc(X_train_v_n, X_test_v_n, y_train_n, y_test_n, model)"
   ]
  },
  {
   "attachments": {},
   "cell_type": "markdown",
   "metadata": {},
   "source": [
    "Above we see the results for our test data set. The model has an AUC of .862, which is not bad. However, from the ROC AUC plot above we can see that the model is still overfitting to the training data and is not generalizing to the test data as well as it could. This could be due to many factors, such as the amount or accuracy of training data, the amount of features, the model architecture, the learning rate, and the amount of epochs. However, the model is still able to predict wheather or not a tweet is about a real disaster with a decent accuracy."
   ]
  }
 ],
 "metadata": {
  "kernelspec": {
   "display_name": "homl3",
   "language": "python",
   "name": "python3"
  },
  "language_info": {
   "codemirror_mode": {
    "name": "ipython",
    "version": 3
   },
   "file_extension": ".py",
   "mimetype": "text/x-python",
   "name": "python",
   "nbconvert_exporter": "python",
   "pygments_lexer": "ipython3",
   "version": "3.9.13"
  },
  "orig_nbformat": 4
 },
 "nbformat": 4,
 "nbformat_minor": 2
}
